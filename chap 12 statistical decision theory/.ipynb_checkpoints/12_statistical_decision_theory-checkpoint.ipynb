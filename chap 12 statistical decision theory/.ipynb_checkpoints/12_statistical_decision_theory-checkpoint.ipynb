{
 "cells": [
  {
   "cell_type": "code",
   "execution_count": 1,
   "id": "aebbd647",
   "metadata": {},
   "outputs": [],
   "source": [
    "# Chapter 12\n",
    "import numpy as np\n",
    "import matplotlib.pyplot as plt\n",
    "import pandas as pd\n",
    "import scipy.stats as scp\n",
    "import math"
   ]
  },
  {
   "cell_type": "code",
   "execution_count": 33,
   "id": "2fcc8f5f",
   "metadata": {},
   "outputs": [],
   "source": [
    "#theta = np.array([0, 2, -300, 5, 60, -9, 4000, 0.7, 0, 12])\n",
    "theta = np.array([0.4]*10)\n",
    "k = len(theta)"
   ]
  },
  {
   "cell_type": "code",
   "execution_count": 5,
   "id": "f770e9f7",
   "metadata": {},
   "outputs": [],
   "source": [
    "def squareLoss(thetaHat):\n",
    "    return np.sum((theta-thetaHat)**2)"
   ]
  },
  {
   "cell_type": "code",
   "execution_count": 34,
   "id": "1ff79df9",
   "metadata": {},
   "outputs": [
    {
     "name": "stdout",
     "output_type": "stream",
     "text": [
      "risk 10.002356422606487\n",
      "risk Stein 2.523961997892661\n"
     ]
    }
   ],
   "source": [
    "B = 100000\n",
    "L = []\n",
    "LStein = []\n",
    "for sim in range(B):\n",
    "    Xn = np.random.normal(theta, scale=1)\n",
    "    normSq = np.linalg.norm(Xn)**2\n",
    "    XStein = []\n",
    "    for Xi in Xn:\n",
    "        XStein.append(Xi*max(0, 1-(k-2)/normSq))\n",
    "    L.append(squareLoss(Xn))\n",
    "    LStein.append(squareLoss(XStein))\n",
    "print(f\"risk {np.mean(L)}\")\n",
    "print(f\"risk Stein {np.mean(LStein)}\")"
   ]
  },
  {
   "cell_type": "code",
   "execution_count": null,
   "id": "cf8c0f4c",
   "metadata": {},
   "outputs": [],
   "source": []
  },
  {
   "cell_type": "code",
   "execution_count": null,
   "id": "0252e28d",
   "metadata": {},
   "outputs": [],
   "source": []
  }
 ],
 "metadata": {
  "kernelspec": {
   "display_name": "Python 3 (ipykernel)",
   "language": "python",
   "name": "python3"
  },
  "language_info": {
   "codemirror_mode": {
    "name": "ipython",
    "version": 3
   },
   "file_extension": ".py",
   "mimetype": "text/x-python",
   "name": "python",
   "nbconvert_exporter": "python",
   "pygments_lexer": "ipython3",
   "version": "3.10.5"
  }
 },
 "nbformat": 4,
 "nbformat_minor": 5
}
