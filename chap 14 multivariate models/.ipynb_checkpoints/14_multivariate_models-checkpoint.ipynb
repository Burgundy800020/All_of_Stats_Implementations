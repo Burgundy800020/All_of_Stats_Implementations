{
 "cells": [
  {
   "cell_type": "code",
   "execution_count": 1,
   "id": "8f3a45c4",
   "metadata": {},
   "outputs": [],
   "source": [
    "# Chapter 13\n",
    "import numpy as np\n",
    "import matplotlib.pyplot as plt\n",
    "import pandas as pd\n",
    "import scipy.stats as scp\n",
    "import math"
   ]
  },
  {
   "cell_type": "code",
   "execution_count": null,
   "id": "a1a5c4bb",
   "metadata": {},
   "outputs": [],
   "source": [
    "#multinormal"
   ]
  },
  {
   "cell_type": "code",
   "execution_count": 8,
   "id": "6a68eb56",
   "metadata": {},
   "outputs": [],
   "source": [
    "def multinormal(mu, sig, n): \n",
    "    # computing the square of the variance matrix (sig_sq)\n",
    "    D, V = np.linalg.eig(sig)\n",
    "    D_sq = np.power(D,0.5)\n",
    "    sig_sq = V.dot(np.diag(D_sq)).dot(np.linalg.inv(V))\n",
    "    sig_sq_inv = np.linalg.inv(sig_sq)\n",
    "    \n",
    "    k = len(mu)\n",
    "    result = np.empty(shape=[n,k])\n",
    "    \n",
    "    def getOne(): \n",
    "        # Using property 2 of theorem 14.2 to determine a random vector: \n",
    "        Z = np.random.normal(size=2).transpose()\n",
    "        X = mu + np.linalg.solve(sig_sq_inv, Z)\n",
    "        return X\n",
    "\n",
    "    for i in range(0,n): \n",
    "        X = getOne()\n",
    "        result[i,:] = X\n",
    "        \n",
    "    return result\n",
    "\n"
   ]
  },
  {
   "cell_type": "code",
   "execution_count": 36,
   "id": "5aaf9ca9",
   "metadata": {},
   "outputs": [],
   "source": [
    "n = 100\n",
    "mu = np.array([3, 8])\n",
    "sig = np.array([[1, 1],\n",
    "               [1, 2]])\n",
    "rhoStar = sig[0, 1]/(sig[0, 0]*sig[1, 1])**0.5"
   ]
  },
  {
   "cell_type": "code",
   "execution_count": 10,
   "id": "4d5d3298",
   "metadata": {},
   "outputs": [],
   "source": [
    "data = multinormal(mu, sig, n)"
   ]
  },
  {
   "cell_type": "code",
   "execution_count": 12,
   "id": "8b984e78",
   "metadata": {},
   "outputs": [
    {
     "data": {
      "image/png": "[encoded data removed]",
      "text/plain": [
       "<Figure size 640x480 with 1 Axes>"
      ]
     },
     "metadata": {},
     "output_type": "display_data"
    }
   ],
   "source": [
    "plt.scatter(data[:, 0], data[:, 1])\n",
    "plt.title(\"multinormal distribution\")\n",
    "plt.show()"
   ]
  },
  {
   "cell_type": "code",
   "execution_count": 14,
   "id": "896c9edb",
   "metadata": {},
   "outputs": [],
   "source": [
    "def correlation(xs, ys):\n",
    "    return np.sum( (xs-xs.mean())*(ys-ys.mean()) )/xs.size/xs.std()/ys.std()\n",
    "def fun(x):\n",
    "    return (np.exp(2*x)-1)/(np.exp(2*x)+1)"
   ]
  },
  {
   "cell_type": "code",
   "execution_count": 41,
   "id": "33d04024",
   "metadata": {},
   "outputs": [],
   "source": [
    "#Fisher method\n",
    "def FisherInterval(data, alpha):\n",
    "    n = data.shape[0]\n",
    "    rho = correlation(data[:, 0], data[:, 1])\n",
    "    theta = (np.log(1+rho) - np.log(1-rho) )/2\n",
    "    se = 1/(n-3)**0.5\n",
    "    z = scp.norm.ppf(1-alpha/2)\n",
    "    return fun(theta-se*z), fun(theta+se*z)"
   ]
  },
  {
   "cell_type": "code",
   "execution_count": 32,
   "id": "fdc1c502",
   "metadata": {},
   "outputs": [],
   "source": [
    "#bootstrap method\n",
    "def bootstrapInterval(data, alpha):\n",
    "    n = data.shape[0]\n",
    "    rho = correlation(data[:, 0], data[:, 1])\n",
    "    rhoBoot = []\n",
    "    bootn = 100\n",
    "    for b in range(bootn):\n",
    "        ids = np.random.randint(0, n, n)\n",
    "        sample = data[ids, :]\n",
    "        rhoBoot.append(correlation(sample[:, 0], sample[:, 1]))\n",
    "    np.sort(rhoBoot)\n",
    "    return 2*rho-np.quantile(rhoBoot,1-alpha/2), 2*rho-np.quantile(rhoBoot,alpha/2)"
   ]
  },
  {
   "cell_type": "code",
   "execution_count": 46,
   "id": "859fe4df",
   "metadata": {},
   "outputs": [
    {
     "name": "stdout",
     "output_type": "stream",
     "text": [
      "Fisher: 191\n",
      "Bootstrap: 186\n"
     ]
    }
   ],
   "source": [
    "simn = 200\n",
    "n = 100\n",
    "covFish = 0\n",
    "covBoot = 0\n",
    "alpha = 0.05\n",
    "for _ in range(simn):\n",
    "    data = multinormal(mu, sig, n)\n",
    "    a, b = FisherInterval(data, alpha)\n",
    "    if a <= rhoStar and b >= rhoStar:\n",
    "        covFish+=1\n",
    "    a, b = bootstrapInterval(data, alpha)\n",
    "    if a <= rhoStar and b >= rhoStar:\n",
    "        covBoot+=1\n",
    "print(f\"Fisher: {covFish}\")\n",
    "print(f\"Bootstrap: {covBoot}\")"
   ]
  },
  {
   "cell_type": "code",
   "execution_count": 44,
   "id": "8d7e27ae",
   "metadata": {},
   "outputs": [
    {
     "data": {
      "text/plain": [
       "0.7071067811865475"
      ]
     },
     "execution_count": 44,
     "metadata": {},
     "output_type": "execute_result"
    }
   ],
   "source": [
    "rhoStar\n"
   ]
  },
  {
   "cell_type": "code",
   "execution_count": null,
   "id": "efa58022",
   "metadata": {},
   "outputs": [],
   "source": []
  }
 ],
 "metadata": {
  "kernelspec": {
   "display_name": "Python 3 (ipykernel)",
   "language": "python",
   "name": "python3"
  },
  "language_info": {
   "codemirror_mode": {
    "name": "ipython",
    "version": 3
   },
   "file_extension": ".py",
   "mimetype": "text/x-python",
   "name": "python",
   "nbconvert_exporter": "python",
   "pygments_lexer": "ipython3",
   "version": "3.10.5"
  }
 },
 "nbformat": 4,
 "nbformat_minor": 5
}
