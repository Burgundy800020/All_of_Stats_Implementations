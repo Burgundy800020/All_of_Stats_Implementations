{
 "cells": [
  {
   "cell_type": "code",
   "execution_count": 1,
   "id": "e420d184",
   "metadata": {},
   "outputs": [],
   "source": [
    "# Chapter 10\n",
    "import numpy as np\n",
    "import matplotlib.pyplot as plt\n",
    "import pandas as pd\n",
    "import scipy.stats as scp"
   ]
  },
  {
   "cell_type": "code",
   "execution_count": null,
   "id": "317fa1be",
   "metadata": {},
   "outputs": [],
   "source": [
    "#p12"
   ]
  },
  {
   "cell_type": "code",
   "execution_count": 21,
   "id": "3c06c2a7",
   "metadata": {},
   "outputs": [],
   "source": [
    "lam0 = 1\n",
    "n = 200\n",
    "alpha = 0.05\n",
    "c = scp.norm.ppf(1-alpha/2)"
   ]
  },
  {
   "cell_type": "code",
   "execution_count": 27,
   "id": "0b7cfb92",
   "metadata": {},
   "outputs": [
    {
     "name": "stdout",
     "output_type": "stream",
     "text": [
      "529\n"
     ]
    }
   ],
   "source": [
    "cntRej = 0\n",
    "B = 10000\n",
    "for i in range(B):\n",
    "    xs = np.random.poisson(lam0, n)\n",
    "    lam = np.mean(xs)\n",
    "    se = (lam/n)**0.5\n",
    "    W = np.abs((lam-lam0)/se)\n",
    "    cntRej+= W > c\n",
    "print(cntRej)"
   ]
  },
  {
   "cell_type": "code",
   "execution_count": null,
   "id": "0120c23d",
   "metadata": {},
   "outputs": [],
   "source": [
    "#p16"
   ]
  },
  {
   "cell_type": "code",
   "execution_count": 66,
   "id": "e1c9d3ac",
   "metadata": {},
   "outputs": [],
   "source": [
    "n = 200\n",
    "p0 = 0.35\n",
    "p_ = 0.45\n",
    "alpha = 0.05\n",
    "c = scp.norm.ppf(1-alpha/2)\n",
    "B = 1000"
   ]
  },
  {
   "cell_type": "code",
   "execution_count": null,
   "id": "030e9cc1",
   "metadata": {},
   "outputs": [],
   "source": [
    "#Wald test"
   ]
  },
  {
   "cell_type": "code",
   "execution_count": 48,
   "id": "7f58bbe0",
   "metadata": {},
   "outputs": [
    {
     "name": "stdout",
     "output_type": "stream",
     "text": [
      "65\n"
     ]
    }
   ],
   "source": [
    "cntRej = 0\n",
    "B = 1000\n",
    "for i in range(B):\n",
    "    xs = np.random.binomial(n, p0, 1)\n",
    "    p = np.mean(xs[0]/n)\n",
    "    se = (p*(1-p)/n)**0.5\n",
    "    W = np.abs((p-p0)/se)\n",
    "    cntRej+= W > c\n",
    "print(cntRej)"
   ]
  },
  {
   "cell_type": "code",
   "execution_count": null,
   "id": "2944ea82",
   "metadata": {},
   "outputs": [],
   "source": [
    "#Wald test p-value"
   ]
  },
  {
   "cell_type": "code",
   "execution_count": 82,
   "id": "693f398b",
   "metadata": {},
   "outputs": [
    {
     "name": "stdout",
     "output_type": "stream",
     "text": [
      "0.04040970138544134\n"
     ]
    }
   ],
   "source": [
    "p_values = []\n",
    "B = 1000\n",
    "for i in range(B):\n",
    "    xs = np.random.binomial(n, p_, 1)\n",
    "    p = xs[0]/n\n",
    "    se = (p*(1-p)/n)**0.5\n",
    "    W = np.abs((p-p0)/se)\n",
    "    p_values.append(2*(scp.norm.cdf(-W)))\n",
    "print(np.mean(p_values))"
   ]
  },
  {
   "cell_type": "code",
   "execution_count": null,
   "id": "d034af06",
   "metadata": {},
   "outputs": [],
   "source": [
    "#likelihood ratio test p-value"
   ]
  },
  {
   "cell_type": "code",
   "execution_count": 77,
   "id": "d2bce3e0",
   "metadata": {},
   "outputs": [
    {
     "name": "stdout",
     "output_type": "stream",
     "text": [
      "0.04190131651244553\n"
     ]
    }
   ],
   "source": [
    "p_values = []\n",
    "B = 1000\n",
    "df = 1\n",
    "for i in range(B):\n",
    "    h = np.random.binomial(n, p_, 1)[0]\n",
    "    p = h/n\n",
    "    likeT = 2*(h*np.log(p/p0) + (n-h)*np.log((1-p)/(1-p0)))\n",
    "    p_values.append(1-scp.chi2.cdf(likeT, df))\n",
    "print(np.mean(p_values))"
   ]
  },
  {
   "cell_type": "code",
   "execution_count": null,
   "id": "a0006ac8",
   "metadata": {},
   "outputs": [],
   "source": [
    "#7"
   ]
  },
  {
   "cell_type": "code",
   "execution_count": 2,
   "id": "e52a0240",
   "metadata": {},
   "outputs": [],
   "source": [
    "xs = [.225, .262, .217, .240, .230, .229, .235, .217]\n",
    "ys = [.209, .205, .196, .210, .202, .207, .224, .223, .220, .201]"
   ]
  },
  {
   "cell_type": "code",
   "execution_count": null,
   "id": "4fe26f4e",
   "metadata": {},
   "outputs": [],
   "source": [
    "#Wald"
   ]
  },
  {
   "cell_type": "code",
   "execution_count": 4,
   "id": "bf092347",
   "metadata": {},
   "outputs": [
    {
     "name": "stdout",
     "output_type": "stream",
     "text": [
      "0.2097 0.231875 0.004816759478632911 0.0028984478604936123\n"
     ]
    }
   ],
   "source": [
    "nx = 8\n",
    "ny = 10\n",
    "mux = np.mean(xs)\n",
    "muy = np.mean(ys)\n",
    "ex = np.std(xs)/(nx**0.5)\n",
    "ey = np.std(ys)/(ny**0.5)\n",
    "theta = np.abs(muy - mux)\n",
    "se = (ex**2 + ey**2)**0.5\n",
    "W = theta/se\n",
    "p_value = 2*(1-scp.norm.cdf(W))\n",
    "print(muy, mux, ex, ey)"
   ]
  },
  {
   "cell_type": "code",
   "execution_count": null,
   "id": "1441ee63",
   "metadata": {},
   "outputs": [],
   "source": [
    "#permutation test"
   ]
  },
  {
   "cell_type": "code",
   "execution_count": 6,
   "id": "5c4183a6",
   "metadata": {},
   "outputs": [
    {
     "data": {
      "text/plain": [
       "0.022175"
      ]
     },
     "execution_count": 6,
     "metadata": {},
     "output_type": "execute_result"
    }
   ],
   "source": [
    "n = nx + ny\n",
    "zs = np.concatenate((xs, ys))\n",
    "t_obs = np.abs(muy-mux)\n",
    "t_obs"
   ]
  },
  {
   "cell_type": "code",
   "execution_count": 8,
   "id": "489a94a5",
   "metadata": {},
   "outputs": [],
   "source": [
    "from bisect import bisect_left, bisect_right"
   ]
  },
  {
   "cell_type": "code",
   "execution_count": 18,
   "id": "bfe1fdf5",
   "metadata": {},
   "outputs": [
    {
     "data": {
      "text/plain": [
       "0.00071"
      ]
     },
     "execution_count": 18,
     "metadata": {},
     "output_type": "execute_result"
    }
   ],
   "source": [
    "B = int(1e6)\n",
    "T_perm = []\n",
    "for i in range(B):\n",
    "    perm_z = np.random.permutation(zs)\n",
    "    perm_x = perm_z[:nx]\n",
    "    perm_y = perm_z[nx:]\n",
    "    T_perm.append(np.abs(np.mean(perm_x)-np.mean(perm_y)))\n",
    "T_perm = np.sort(T_perm)\n",
    "p_value = (B-bisect_right(T_perm, t_obs))/B\n",
    "p_value"
   ]
  },
  {
   "cell_type": "code",
   "execution_count": null,
   "id": "0f535e42",
   "metadata": {},
   "outputs": [],
   "source": [
    "#11"
   ]
  },
  {
   "cell_type": "code",
   "execution_count": 23,
   "id": "d053b43d",
   "metadata": {},
   "outputs": [],
   "source": [
    "def odd_ratio(p1, p2):\n",
    "    arg = p1/(1-p1)*(1-p2)/p2\n",
    "    return np.log(arg)"
   ]
  },
  {
   "cell_type": "code",
   "execution_count": 26,
   "id": "b66b8e0a",
   "metadata": {},
   "outputs": [
    {
     "data": {
      "text/plain": [
       "0.005703391555257786"
      ]
     },
     "execution_count": 26,
     "metadata": {},
     "output_type": "execute_result"
    }
   ],
   "source": [
    "n = 80\n",
    "p0 = 45/n\n",
    "m = 75\n",
    "s = 26\n",
    "p = s/m\n",
    "se = (p0*(1-p0)/n + p*(1-p)/m)**0.5\n",
    "W = np.abs(p-p0)/se\n",
    "p_value = 2*(1-scp.norm.cdf(W));\n",
    "p_value"
   ]
  },
  {
   "cell_type": "code",
   "execution_count": null,
   "id": "4be75cef",
   "metadata": {},
   "outputs": [],
   "source": [
    "#13"
   ]
  },
  {
   "cell_type": "code",
   "execution_count": 27,
   "id": "5d3524c9",
   "metadata": {},
   "outputs": [
    {
     "data": {
      "text/plain": [
       "0.9750021048517795"
      ]
     },
     "execution_count": 27,
     "metadata": {},
     "output_type": "execute_result"
    }
   ],
   "source": []
  },
  {
   "cell_type": "code",
   "execution_count": 58,
   "id": "96348a1f",
   "metadata": {},
   "outputs": [
    {
     "name": "stdout",
     "output_type": "stream",
     "text": [
      "Wald 0.09157796139794994\n",
      "likelihood ratio 0.06945726699772403\n"
     ]
    }
   ],
   "source": [
    "mu0 = 5\n",
    "mu = 5.2\n",
    "sig = 1\n",
    "n = 50\n",
    "xs = np.random.normal(mu, sig, n)\n",
    "x_bar = np.mean(xs)\n",
    "\n",
    "#wald\n",
    "se = np.std(xs)/n**0.5\n",
    "W = np.abs((x_bar-mu0)/se)\n",
    "print(\"Wald\", 2*(1-scp.norm.cdf(W)))\n",
    "\n",
    "#likelihood ratio\n",
    "lam = (mu0-x_bar)*(n*(mu0+x_bar) - 2*np.sum(xs))/sig**2\n",
    "print(\"likelihood ratio\", 1-scp.chi2.cdf(lam, df = 1))\n"
   ]
  },
  {
   "cell_type": "code",
   "execution_count": 32,
   "id": "9ad544f9",
   "metadata": {},
   "outputs": [],
   "source": [
    "def est_sig(data, mu):\n",
    "    #mu = np.mean(data)\n",
    "    res = 0\n",
    "    for i in range(len(data)):\n",
    "        res += (data[i]-mu)**2\n",
    "    res = (res/n)**0.5\n",
    "    return res"
   ]
  },
  {
   "cell_type": "code",
   "execution_count": 37,
   "id": "0ac09614",
   "metadata": {},
   "outputs": [
    {
     "name": "stdout",
     "output_type": "stream",
     "text": [
      "Wald 0.09873944456302897\n",
      "likelihood ratio 0.05488135248350123\n"
     ]
    }
   ],
   "source": [
    "mu = 5\n",
    "sig0 = 1\n",
    "sig = 1\n",
    "n = 50\n",
    "xs = np.random.normal(mu, sig, n)\n",
    "x_bar = np.mean(xs)\n",
    "sig_hat = est_sig(xs, mu)\n",
    "\n",
    "#wald\n",
    "se = sig_hat/(2*n)**0.5\n",
    "W = np.abs((sig_hat-sig0)/se)\n",
    "print(\"Wald\", 2*(1-scp.norm.cdf(W)))\n",
    "\n",
    "#likelihood ratio\n",
    "lam = 2*n*np.log(sig0/sig_hat) + n*(sig_hat**2/sig0**2 - 1)\n",
    "print(\"likelihood ratio\", 1-scp.chi2.cdf(lam, df = 1))\n"
   ]
  },
  {
   "cell_type": "code",
   "execution_count": 11,
   "id": "8dba20b9",
   "metadata": {},
   "outputs": [
    {
     "ename": "NameError",
     "evalue": "name 'p_hat' is not defined",
     "output_type": "error",
     "traceback": [
      "\u001b[1;31m---------------------------------------------------------------------------\u001b[0m",
      "\u001b[1;31mNameError\u001b[0m                                 Traceback (most recent call last)",
      "Cell \u001b[1;32mIn [11], line 8\u001b[0m\n\u001b[0;32m      4\u001b[0m x \u001b[38;5;241m=\u001b[39m np\u001b[38;5;241m.\u001b[39mrandom\u001b[38;5;241m.\u001b[39mbinomial(n\u001b[38;5;241m=\u001b[39mn, p\u001b[38;5;241m=\u001b[39mp)\n\u001b[0;32m      7\u001b[0m \u001b[38;5;66;03m#wald\u001b[39;00m\n\u001b[1;32m----> 8\u001b[0m se \u001b[38;5;241m=\u001b[39m (\u001b[43mp_hat\u001b[49m\u001b[38;5;241m*\u001b[39m(\u001b[38;5;241m1\u001b[39m\u001b[38;5;241m-\u001b[39mp_hat)\u001b[38;5;241m/\u001b[39mn)\u001b[38;5;241m*\u001b[39m\u001b[38;5;241m*\u001b[39m\u001b[38;5;241m0.5\u001b[39m\n\u001b[0;32m      9\u001b[0m W \u001b[38;5;241m=\u001b[39m np\u001b[38;5;241m.\u001b[39mabs((p_hat\u001b[38;5;241m-\u001b[39mp0)\u001b[38;5;241m/\u001b[39mse)\n\u001b[0;32m     10\u001b[0m \u001b[38;5;28mprint\u001b[39m(\u001b[38;5;124m\"\u001b[39m\u001b[38;5;124mWald\u001b[39m\u001b[38;5;124m\"\u001b[39m, \u001b[38;5;241m2\u001b[39m\u001b[38;5;241m*\u001b[39m(\u001b[38;5;241m1\u001b[39m\u001b[38;5;241m-\u001b[39mscp\u001b[38;5;241m.\u001b[39mnorm\u001b[38;5;241m.\u001b[39mcdf(W)))\n",
      "\u001b[1;31mNameError\u001b[0m: name 'p_hat' is not defined"
     ]
    }
   ],
   "source": [
    "p = 0.5\n",
    "p0 = 0.4\n",
    "n = 500\n",
    "x = np.random.binomial(n=n, p=p)\n",
    "\n",
    "\n",
    "#wald\n",
    "se = (p_hat*(1-p_hat)/n)**0.5\n",
    "W = np.abs((p_hat-p0)/se)\n",
    "print(\"Wald\", 2*(1-scp.norm.cdf(W)))\n",
    "\n",
    "#likelihood ratio\n",
    "lam = 2*(x*np.log(p_hat/p0) + (n-x)*np.log((1-p_hat)/(1-p0)) )\n",
    "print(\"likelihood ratio\", 1-scp.chi2.cdf(lam, df = 1))\n"
   ]
  },
  {
   "cell_type": "code",
   "execution_count": null,
   "id": "10dcd1e7",
   "metadata": {},
   "outputs": [],
   "source": []
  },
  {
   "cell_type": "code",
   "execution_count": null,
   "id": "de2bba1f",
   "metadata": {},
   "outputs": [],
   "source": []
  }
 ],
 "metadata": {
  "kernelspec": {
   "display_name": "Python 3 (ipykernel)",
   "language": "python",
   "name": "python3"
  },
  "language_info": {
   "codemirror_mode": {
    "name": "ipython",
    "version": 3
   },
   "file_extension": ".py",
   "mimetype": "text/x-python",
   "name": "python",
   "nbconvert_exporter": "python",
   "pygments_lexer": "ipython3",
   "version": "3.10.5"
  }
 },
 "nbformat": 4,
 "nbformat_minor": 5
}
