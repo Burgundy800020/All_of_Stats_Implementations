{
 "cells": [
  {
   "cell_type": "code",
   "execution_count": 40,
   "id": "2e62a3e1",
   "metadata": {},
   "outputs": [],
   "source": [
    "# Chapter 13\n",
    "import numpy as np\n",
    "import matplotlib.pyplot as plt\n",
    "import pandas as pd\n",
    "import scipy.stats as scp\n",
    "import math"
   ]
  },
  {
   "cell_type": "code",
   "execution_count": 2,
   "id": "590aa9e5",
   "metadata": {},
   "outputs": [
    {
     "data": {
      "text/html": [
       "<div>\n",
       "<style scoped>\n",
       "    .dataframe tbody tr th:only-of-type {\n",
       "        vertical-align: middle;\n",
       "    }\n",
       "\n",
       "    .dataframe tbody tr th {\n",
       "        vertical-align: top;\n",
       "    }\n",
       "\n",
       "    .dataframe thead th {\n",
       "        text-align: right;\n",
       "    }\n",
       "</style>\n",
       "<table border=\"1\" class=\"dataframe\">\n",
       "  <thead>\n",
       "    <tr style=\"text-align: right;\">\n",
       "      <th></th>\n",
       "      <th>MAKE</th>\n",
       "      <th>VOL</th>\n",
       "      <th>HP</th>\n",
       "      <th>MPG</th>\n",
       "      <th>SP</th>\n",
       "      <th>WT</th>\n",
       "    </tr>\n",
       "  </thead>\n",
       "  <tbody>\n",
       "    <tr>\n",
       "      <th>0</th>\n",
       "      <td>GM/GeoMetroXF1</td>\n",
       "      <td>89</td>\n",
       "      <td>49</td>\n",
       "      <td>65.4</td>\n",
       "      <td>96</td>\n",
       "      <td>17.5</td>\n",
       "    </tr>\n",
       "    <tr>\n",
       "      <th>1</th>\n",
       "      <td>GM/GeoMetro</td>\n",
       "      <td>92</td>\n",
       "      <td>55</td>\n",
       "      <td>56.0</td>\n",
       "      <td>97</td>\n",
       "      <td>20.0</td>\n",
       "    </tr>\n",
       "    <tr>\n",
       "      <th>2</th>\n",
       "      <td>GM/GeoMetroLSI</td>\n",
       "      <td>92</td>\n",
       "      <td>55</td>\n",
       "      <td>55.9</td>\n",
       "      <td>97</td>\n",
       "      <td>20.0</td>\n",
       "    </tr>\n",
       "    <tr>\n",
       "      <th>3</th>\n",
       "      <td>SuzukiSwift</td>\n",
       "      <td>92</td>\n",
       "      <td>70</td>\n",
       "      <td>49.0</td>\n",
       "      <td>105</td>\n",
       "      <td>20.0</td>\n",
       "    </tr>\n",
       "    <tr>\n",
       "      <th>4</th>\n",
       "      <td>DaihatsuCharade</td>\n",
       "      <td>92</td>\n",
       "      <td>53</td>\n",
       "      <td>46.5</td>\n",
       "      <td>96</td>\n",
       "      <td>20.0</td>\n",
       "    </tr>\n",
       "    <tr>\n",
       "      <th>...</th>\n",
       "      <td>...</td>\n",
       "      <td>...</td>\n",
       "      <td>...</td>\n",
       "      <td>...</td>\n",
       "      <td>...</td>\n",
       "      <td>...</td>\n",
       "    </tr>\n",
       "    <tr>\n",
       "      <th>77</th>\n",
       "      <td>Mercedes500SL</td>\n",
       "      <td>50</td>\n",
       "      <td>322</td>\n",
       "      <td>18.1</td>\n",
       "      <td>165</td>\n",
       "      <td>45.0</td>\n",
       "    </tr>\n",
       "    <tr>\n",
       "      <th>78</th>\n",
       "      <td>Mercedes560SEL</td>\n",
       "      <td>115</td>\n",
       "      <td>238</td>\n",
       "      <td>17.2</td>\n",
       "      <td>140</td>\n",
       "      <td>45.0</td>\n",
       "    </tr>\n",
       "    <tr>\n",
       "      <th>79</th>\n",
       "      <td>JaguarXJSConvert</td>\n",
       "      <td>50</td>\n",
       "      <td>263</td>\n",
       "      <td>17.0</td>\n",
       "      <td>147</td>\n",
       "      <td>45.0</td>\n",
       "    </tr>\n",
       "    <tr>\n",
       "      <th>80</th>\n",
       "      <td>BMW750IL</td>\n",
       "      <td>119</td>\n",
       "      <td>295</td>\n",
       "      <td>16.7</td>\n",
       "      <td>157</td>\n",
       "      <td>45.0</td>\n",
       "    </tr>\n",
       "    <tr>\n",
       "      <th>81</th>\n",
       "      <td>Rolls-RoyceVarious</td>\n",
       "      <td>107</td>\n",
       "      <td>236</td>\n",
       "      <td>13.2</td>\n",
       "      <td>130</td>\n",
       "      <td>55.0</td>\n",
       "    </tr>\n",
       "  </tbody>\n",
       "</table>\n",
       "<p>82 rows × 6 columns</p>\n",
       "</div>"
      ],
      "text/plain": [
       "                  MAKE  VOL   HP   MPG   SP    WT\n",
       "0       GM/GeoMetroXF1   89   49  65.4   96  17.5\n",
       "1          GM/GeoMetro   92   55  56.0   97  20.0\n",
       "2       GM/GeoMetroLSI   92   55  55.9   97  20.0\n",
       "3          SuzukiSwift   92   70  49.0  105  20.0\n",
       "4      DaihatsuCharade   92   53  46.5   96  20.0\n",
       "..                 ...  ...  ...   ...  ...   ...\n",
       "77       Mercedes500SL   50  322  18.1  165  45.0\n",
       "78      Mercedes560SEL  115  238  17.2  140  45.0\n",
       "79    JaguarXJSConvert   50  263  17.0  147  45.0\n",
       "80            BMW750IL  119  295  16.7  157  45.0\n",
       "81  Rolls-RoyceVarious  107  236  13.2  130  55.0\n",
       "\n",
       "[82 rows x 6 columns]"
      ]
     },
     "execution_count": 2,
     "metadata": {},
     "output_type": "execute_result"
    }
   ],
   "source": [
    "data = pd.read_csv('data/car.txt', delim_whitespace = True)\n",
    "data"
   ]
  },
  {
   "cell_type": "code",
   "execution_count": 15,
   "id": "30d5e8a3",
   "metadata": {},
   "outputs": [],
   "source": [
    "xs = data[\"HP\"].to_numpy()\n",
    "ys = data[\"MPG\"].to_numpy()\n",
    "xBar = xs.mean()\n",
    "yBar = ys.mean()"
   ]
  },
  {
   "cell_type": "code",
   "execution_count": 23,
   "id": "c17d9fbb",
   "metadata": {},
   "outputs": [
    {
     "data": {
      "text/plain": [
       "33.78170731707316"
      ]
     },
     "execution_count": 23,
     "metadata": {},
     "output_type": "execute_result"
    }
   ],
   "source": [
    "yBar"
   ]
  },
  {
   "cell_type": "code",
   "execution_count": 25,
   "id": "bf476e5b",
   "metadata": {},
   "outputs": [],
   "source": [
    "b1 = np.sum((xs-xBar)*(ys-yBar))/(xs.std()**2)/xs.size"
   ]
  },
  {
   "cell_type": "code",
   "execution_count": 26,
   "id": "c6d96c5a",
   "metadata": {},
   "outputs": [],
   "source": [
    "b0 = yBar - b1*xBar"
   ]
  },
  {
   "cell_type": "code",
   "execution_count": 28,
   "id": "a2ea3078",
   "metadata": {
    "scrolled": true
   },
   "outputs": [
    {
     "data": {
      "image/png": "[encoded data removed]",
      "text/plain": [
       "<Figure size 640x480 with 1 Axes>"
      ]
     },
     "metadata": {},
     "output_type": "display_data"
    }
   ],
   "source": [
    "xVec = np.linspace(xs.min()-1, xs.max()+1, 1000)\n",
    "plt.scatter(xs, ys)\n",
    "plt.plot(xVec, b1*xVec+b0)\n",
    "plt.title('simple linear regression: mpg as function of hp')\n",
    "plt.show()"
   ]
  },
  {
   "cell_type": "code",
   "execution_count": 30,
   "id": "bc73675c",
   "metadata": {},
   "outputs": [
    {
     "data": {
      "image/png": "[encoded data removed]",
      "text/plain": [
       "<Figure size 640x480 with 1 Axes>"
      ]
     },
     "metadata": {},
     "output_type": "display_data"
    }
   ],
   "source": [
    "residuals = ys-b1*xs-b0\n",
    "plt.scatter(xs, residuals)\n",
    "plt.title(\"residuals\")\n",
    "plt.show()\n",
    "#not normal distribution around 0"
   ]
  },
  {
   "cell_type": "code",
   "execution_count": 32,
   "id": "e6397d65",
   "metadata": {},
   "outputs": [],
   "source": [
    "yLog = np.log(ys)\n",
    "yLogBar = yLog.mean()"
   ]
  },
  {
   "cell_type": "code",
   "execution_count": 33,
   "id": "c8d31fce",
   "metadata": {},
   "outputs": [],
   "source": [
    "c1 = np.sum((xs-xBar)*(yLog-yLogBar))/(xs.std()**2)/xs.size\n",
    "c0 = yLogBar-c1*xBar"
   ]
  },
  {
   "cell_type": "code",
   "execution_count": 34,
   "id": "61a180bd",
   "metadata": {},
   "outputs": [
    {
     "data": {
      "image/png": "[encoded data removed]",
      "text/plain": [
       "<Figure size 640x480 with 1 Axes>"
      ]
     },
     "metadata": {},
     "output_type": "display_data"
    }
   ],
   "source": [
    "plt.scatter(xs, yLog)\n",
    "plt.plot(xVec, c1*xVec+c0)\n",
    "plt.title('simple linear regression: log(mpg) as function of hp')\n",
    "plt.show()"
   ]
  },
  {
   "cell_type": "code",
   "execution_count": 35,
   "id": "282ead8c",
   "metadata": {},
   "outputs": [
    {
     "data": {
      "image/png": "[encoded data removed]",
      "text/plain": [
       "<Figure size 640x480 with 1 Axes>"
      ]
     },
     "metadata": {},
     "output_type": "display_data"
    }
   ],
   "source": [
    "residuals2 = yLog-c1*xs-c0\n",
    "plt.scatter(xs, residuals2)\n",
    "plt.title(\"residuals\")\n",
    "plt.show()\n",
    "#normal distribution around 0"
   ]
  },
  {
   "cell_type": "code",
   "execution_count": 98,
   "id": "fe980e3a",
   "metadata": {},
   "outputs": [],
   "source": [
    "#multiple linear regression"
   ]
  },
  {
   "cell_type": "code",
   "execution_count": 16,
   "id": "d54c7ab9",
   "metadata": {},
   "outputs": [
    {
     "data": {
      "text/html": [
       "<div>\n",
       "<style scoped>\n",
       "    .dataframe tbody tr th:only-of-type {\n",
       "        vertical-align: middle;\n",
       "    }\n",
       "\n",
       "    .dataframe tbody tr th {\n",
       "        vertical-align: top;\n",
       "    }\n",
       "\n",
       "    .dataframe thead th {\n",
       "        text-align: right;\n",
       "    }\n",
       "</style>\n",
       "<table border=\"1\" class=\"dataframe\">\n",
       "  <thead>\n",
       "    <tr style=\"text-align: right;\">\n",
       "      <th></th>\n",
       "      <th>MAKE</th>\n",
       "      <th>VOL</th>\n",
       "      <th>HP</th>\n",
       "      <th>MPG</th>\n",
       "      <th>SP</th>\n",
       "      <th>WT</th>\n",
       "    </tr>\n",
       "  </thead>\n",
       "  <tbody>\n",
       "    <tr>\n",
       "      <th>0</th>\n",
       "      <td>GM/GeoMetroXF1</td>\n",
       "      <td>89</td>\n",
       "      <td>49</td>\n",
       "      <td>65.4</td>\n",
       "      <td>96</td>\n",
       "      <td>17.5</td>\n",
       "    </tr>\n",
       "    <tr>\n",
       "      <th>1</th>\n",
       "      <td>GM/GeoMetro</td>\n",
       "      <td>92</td>\n",
       "      <td>55</td>\n",
       "      <td>56.0</td>\n",
       "      <td>97</td>\n",
       "      <td>20.0</td>\n",
       "    </tr>\n",
       "    <tr>\n",
       "      <th>2</th>\n",
       "      <td>GM/GeoMetroLSI</td>\n",
       "      <td>92</td>\n",
       "      <td>55</td>\n",
       "      <td>55.9</td>\n",
       "      <td>97</td>\n",
       "      <td>20.0</td>\n",
       "    </tr>\n",
       "    <tr>\n",
       "      <th>3</th>\n",
       "      <td>SuzukiSwift</td>\n",
       "      <td>92</td>\n",
       "      <td>70</td>\n",
       "      <td>49.0</td>\n",
       "      <td>105</td>\n",
       "      <td>20.0</td>\n",
       "    </tr>\n",
       "    <tr>\n",
       "      <th>4</th>\n",
       "      <td>DaihatsuCharade</td>\n",
       "      <td>92</td>\n",
       "      <td>53</td>\n",
       "      <td>46.5</td>\n",
       "      <td>96</td>\n",
       "      <td>20.0</td>\n",
       "    </tr>\n",
       "    <tr>\n",
       "      <th>...</th>\n",
       "      <td>...</td>\n",
       "      <td>...</td>\n",
       "      <td>...</td>\n",
       "      <td>...</td>\n",
       "      <td>...</td>\n",
       "      <td>...</td>\n",
       "    </tr>\n",
       "    <tr>\n",
       "      <th>77</th>\n",
       "      <td>Mercedes500SL</td>\n",
       "      <td>50</td>\n",
       "      <td>322</td>\n",
       "      <td>18.1</td>\n",
       "      <td>165</td>\n",
       "      <td>45.0</td>\n",
       "    </tr>\n",
       "    <tr>\n",
       "      <th>78</th>\n",
       "      <td>Mercedes560SEL</td>\n",
       "      <td>115</td>\n",
       "      <td>238</td>\n",
       "      <td>17.2</td>\n",
       "      <td>140</td>\n",
       "      <td>45.0</td>\n",
       "    </tr>\n",
       "    <tr>\n",
       "      <th>79</th>\n",
       "      <td>JaguarXJSConvert</td>\n",
       "      <td>50</td>\n",
       "      <td>263</td>\n",
       "      <td>17.0</td>\n",
       "      <td>147</td>\n",
       "      <td>45.0</td>\n",
       "    </tr>\n",
       "    <tr>\n",
       "      <th>80</th>\n",
       "      <td>BMW750IL</td>\n",
       "      <td>119</td>\n",
       "      <td>295</td>\n",
       "      <td>16.7</td>\n",
       "      <td>157</td>\n",
       "      <td>45.0</td>\n",
       "    </tr>\n",
       "    <tr>\n",
       "      <th>81</th>\n",
       "      <td>Rolls-RoyceVarious</td>\n",
       "      <td>107</td>\n",
       "      <td>236</td>\n",
       "      <td>13.2</td>\n",
       "      <td>130</td>\n",
       "      <td>55.0</td>\n",
       "    </tr>\n",
       "  </tbody>\n",
       "</table>\n",
       "<p>82 rows × 6 columns</p>\n",
       "</div>"
      ],
      "text/plain": [
       "                  MAKE  VOL   HP   MPG   SP    WT\n",
       "0       GM/GeoMetroXF1   89   49  65.4   96  17.5\n",
       "1          GM/GeoMetro   92   55  56.0   97  20.0\n",
       "2       GM/GeoMetroLSI   92   55  55.9   97  20.0\n",
       "3          SuzukiSwift   92   70  49.0  105  20.0\n",
       "4      DaihatsuCharade   92   53  46.5   96  20.0\n",
       "..                 ...  ...  ...   ...  ...   ...\n",
       "77       Mercedes500SL   50  322  18.1  165  45.0\n",
       "78      Mercedes560SEL  115  238  17.2  140  45.0\n",
       "79    JaguarXJSConvert   50  263  17.0  147  45.0\n",
       "80            BMW750IL  119  295  16.7  157  45.0\n",
       "81  Rolls-RoyceVarious  107  236  13.2  130  55.0\n",
       "\n",
       "[82 rows x 6 columns]"
      ]
     },
     "execution_count": 16,
     "metadata": {},
     "output_type": "execute_result"
    }
   ],
   "source": [
    "data = pd.read_csv('data/car.txt', delim_whitespace = True)\n",
    "data"
   ]
  },
  {
   "cell_type": "code",
   "execution_count": 27,
   "id": "f53fa3f3",
   "metadata": {},
   "outputs": [],
   "source": [
    "n = 82\n",
    "labels = [ \"HP\", \"VOL\",\"SP\", \"WT\"]\n",
    "k = len(labels)\n",
    "X = np.empty(shape=(n, k), dtype=np.float64)\n",
    "#X[:, 0] = np.ones(n)\n",
    "#X[:, 1:k] = data[labels].to_numpy()\n",
    "X = data[labels].to_numpy()\n",
    "Y = data[\"MPG\"].to_numpy()\n"
   ]
  },
  {
   "cell_type": "code",
   "execution_count": null,
   "id": "771fce51",
   "metadata": {},
   "outputs": [],
   "source": []
  },
  {
   "cell_type": "code",
   "execution_count": 45,
   "id": "a19c5e3a",
   "metadata": {},
   "outputs": [
    {
     "name": "stdout",
     "output_type": "stream",
     "text": [
      "['HP', 'VOL', 'SP', 'WT']\n",
      "[-0.26116655 -0.03522484  0.69908764 -0.34904552]\n",
      "24.61149236058521\n",
      "[0.021239277840082296, 0.030829173743440862, 0.0293419030073753, 0.1449831774575112]\n"
     ]
    }
   ],
   "source": [
    "#full model\n",
    "#print(f'{\"Name\":>6} | {\"Parameter\":>10} | {\"std err.\":>10} | {\"t-value\":>10} | {\"p-value\":>10}')\n",
    "#print(f'{\"---------------------------------------------------------------\"}')\n",
    "beta, sig, seMatrix, trainingErr = multiLinearFit(X, Y)\n",
    "print(labels)\n",
    "print(beta)\n",
    "print(sig**2)\n",
    "print([seMatrix[i, i]**0.5 for i in range(k)])\n",
    "W = [np.abs(beta[i])/seMatrix[i, i]**0.5 for i in range(k)]"
   ]
  },
  {
   "cell_type": "code",
   "execution_count": null,
   "id": "a76b2dc5",
   "metadata": {},
   "outputs": [],
   "source": [
    "#Zheng-Loh model selection method"
   ]
  },
  {
   "cell_type": "code",
   "execution_count": 48,
   "id": "fa381457",
   "metadata": {},
   "outputs": [
    {
     "name": "stdout",
     "output_type": "stream",
     "text": [
      "[14104.349682940509, 2539.199249339058, 2169.577193838717, 2245.06421539351]\n",
      "[2 0 3 1]\n",
      "2\n"
     ]
    }
   ],
   "source": [
    "frRank = []\n",
    "for val in sorted(W)[::-1]:\n",
    "    frRank.append(W.index(val))\n",
    "frRank = np.array(frRank)\n",
    "jHat = -1\n",
    "model = []\n",
    "inf = 1e9\n",
    "bestScore = inf\n",
    "summary = []\n",
    "for j in range(k):\n",
    "    model.append(j)\n",
    "    matrix = X[:, frRank[model]]\n",
    "    beta, sig, seMatrix, trainingErr = multiLinearFit(matrix, Y)\n",
    "    score = trainingErr + j*sig**2*np.log(n)\n",
    "    summary.append(score)\n",
    "    if score < bestScore:\n",
    "        bestScore = score\n",
    "        jHat = j\n",
    "print(summary)\n",
    "print(frRank)\n",
    "print(jHat)"
   ]
  },
  {
   "cell_type": "code",
   "execution_count": 4,
   "id": "f9301a68",
   "metadata": {},
   "outputs": [],
   "source": [
    "def trainingError(Y, Yhat):\n",
    "    return np.sum((Y-Yhat)**2)\n",
    "\n",
    "def multiLinearFit(X, Y):\n",
    "    n, k = X.shape\n",
    "    beta = None\n",
    "    try:\n",
    "        beta = np.linalg.inv(X.transpose().dot(X)).dot(X.transpose()).dot(Y)\n",
    "    except:\n",
    "        print(X)\n",
    "    Yhat = X.dot(beta)\n",
    "    trainingErr = np.sum((Y-Yhat)**2)\n",
    "    sig = (trainingErr/(n-k))**0.5\n",
    "    seMatrix = sig**2*np.linalg.inv(X.transpose().dot(X))\n",
    "    return beta, sig, seMatrix, trainingErr\n",
    "    \n",
    "def Mallow(X, sig, trainingErr):\n",
    "    return trainingErr + 2*sig**2*X.shape[1]\n",
    "    "
   ]
  },
  {
   "cell_type": "code",
   "execution_count": null,
   "id": "d132fc95",
   "metadata": {},
   "outputs": [],
   "source": [
    "#forward stepwise"
   ]
  },
  {
   "cell_type": "code",
   "execution_count": 31,
   "id": "768a3bbf",
   "metadata": {},
   "outputs": [
    {
     "name": "stdout",
     "output_type": "stream",
     "text": [
      "[[0, 516.5157990484629, 42870.81132102242], [1, 207.41546942041032, 17215.483961894053], [2, 174.12777386346306, 14452.605230667436], [3, 319.692985732162, 26534.517815769446]]\n",
      "[[0, 30.082904204588626, 2526.963953185445], [1, 171.34091974318272, 14392.63725842735], [3, 99.97140145873607, 8397.59772253383]]\n",
      "[[1, 26.105630240900577, 2218.978570476549], [3, 24.706664845767307, 2100.066511890221]]\n",
      "[[1, 24.61149236058521, 2116.588343010328]]\n",
      "[2, 0, 3]\n",
      "[ 0.68166193 -0.24471468 -0.46063309] 4.970579930527957 [[ 6.30778953e-04 -5.76597195e-06 -2.17135643e-03]\n",
      " [-5.76597195e-06  2.44722702e-04 -9.38904392e-04]\n",
      " [-2.17135643e-03 -9.38904392e-04  1.15265246e-02]] 1951.8265228156174\n"
     ]
    }
   ],
   "source": [
    "model = []\n",
    "matrix = []\n",
    "inf = 1e9\n",
    "bestMallow = inf\n",
    "for i in range(k):\n",
    "    bestCov = -1 \n",
    "    summary =  []\n",
    "    for j in range(0, k):\n",
    "        if j in model:continue\n",
    "        temp = matrix.copy()\n",
    "        temp.append(X[:, j])\n",
    "        temp = np.array(temp, dtype=np.float64).transpose()\n",
    "        beta, sig, seMatrix, trainingErr = multiLinearFit(temp, Y)\n",
    "        score = Mallow(temp, sig, trainingErr)\n",
    "        summary.append([j, sig**2, score])\n",
    "        if score < bestMallow:\n",
    "            bestMallow = score\n",
    "            bestCov = j\n",
    "    print(summary)\n",
    "    if bestCov == -1: break\n",
    "    model.append(bestCov)\n",
    "    matrix.append(X[:, bestCov])\n",
    "beta, sig, seMatrix, trainingErr = multiLinearFit(np.array(matrix).transpose(), Y)\n",
    "print(model)\n",
    "print(beta, sig, seMatrix, trainingErr)"
   ]
  },
  {
   "cell_type": "code",
   "execution_count": 35,
   "id": "39e84d54",
   "metadata": {},
   "outputs": [
    {
     "data": {
      "text/plain": [
       "[3, 2]"
      ]
     },
     "execution_count": 35,
     "metadata": {},
     "output_type": "execute_result"
    }
   ],
   "source": [
    "a = [1, 3, 2]\n",
    "a.remove(1)\n",
    "a"
   ]
  },
  {
   "cell_type": "code",
   "execution_count": 48,
   "id": "5293cc7a",
   "metadata": {},
   "outputs": [],
   "source": [
    "#backward stepwise"
   ]
  },
  {
   "cell_type": "code",
   "execution_count": 38,
   "id": "4605fd29",
   "metadata": {},
   "outputs": [
    {
     "name": "stdout",
     "output_type": "stream",
     "text": [
      "[[0, 6069.416021764643], [1, 2100.066511890224], [2, 17097.485974873332], [3, 2218.978570476549]]\n",
      "[[0, 8397.59772253383], [2, 21159.57747341678], [3, 2526.9639531854446]]\n",
      "[0, 2, 3]\n",
      "[-0.24471468  0.68166193 -0.46063309] 4.9705799305279585 [[ 2.44722702e-04 -5.76597195e-06 -9.38904392e-04]\n",
      " [-5.76597195e-06  6.30778953e-04 -2.17135643e-03]\n",
      " [-9.38904392e-04 -2.17135643e-03  1.15265246e-02]] 1951.826522815619\n"
     ]
    }
   ],
   "source": [
    "model = [i for i in range(k)]\n",
    "matrix = data[labels].to_numpy()\n",
    "beta, sig, seMatrix, trainingErr = multiLinearFit(matrix, Y)\n",
    "bestMallow = Mallow(matrix, sig, trainingErr)\n",
    "\n",
    "for i in range(k):\n",
    "    bestCov = -1 \n",
    "    summary =  []\n",
    "    model.sort()\n",
    "    for j in range(k):\n",
    "        if not j in model:continue\n",
    "        model.remove(j)\n",
    "        temp = matrix[:, model]        \n",
    "        beta, sig, seMatrix, trainingErr = multiLinearFit(temp, Y)\n",
    "        score = Mallow(temp, sig, trainingErr)\n",
    "        summary.append([j, score])\n",
    "        if score < bestMallow:\n",
    "            bestMallow = score\n",
    "            bestCov = j\n",
    "        model.append(j)\n",
    "    print(summary)\n",
    "    if bestCov == -1: break\n",
    "    model.remove(bestCov)\n",
    "beta, sig, seMatrix, trainingErr = multiLinearFit(matrix[:, model], Y)\n",
    "print(model)\n",
    "print(beta, sig, seMatrix, trainingErr)"
   ]
  },
  {
   "cell_type": "code",
   "execution_count": 2,
   "id": "99d1fdc4",
   "metadata": {},
   "outputs": [],
   "source": [
    "#11"
   ]
  },
  {
   "cell_type": "code",
   "execution_count": 41,
   "id": "76ae3fb0",
   "metadata": {},
   "outputs": [
    {
     "data": {
      "text/html": [
       "<div>\n",
       "<style scoped>\n",
       "    .dataframe tbody tr th:only-of-type {\n",
       "        vertical-align: middle;\n",
       "    }\n",
       "\n",
       "    .dataframe tbody tr th {\n",
       "        vertical-align: top;\n",
       "    }\n",
       "\n",
       "    .dataframe thead th {\n",
       "        text-align: right;\n",
       "    }\n",
       "</style>\n",
       "<table border=\"1\" class=\"dataframe\">\n",
       "  <thead>\n",
       "    <tr style=\"text-align: right;\">\n",
       "      <th></th>\n",
       "      <th>inter</th>\n",
       "      <th>sbp</th>\n",
       "      <th>tobacco</th>\n",
       "      <th>ldl</th>\n",
       "      <th>adiposity</th>\n",
       "      <th>famhist</th>\n",
       "      <th>typea</th>\n",
       "      <th>obesity</th>\n",
       "      <th>alcohol</th>\n",
       "      <th>age</th>\n",
       "      <th>chd</th>\n",
       "    </tr>\n",
       "  </thead>\n",
       "  <tbody>\n",
       "    <tr>\n",
       "      <th>0</th>\n",
       "      <td>1</td>\n",
       "      <td>160</td>\n",
       "      <td>12.00</td>\n",
       "      <td>5.73</td>\n",
       "      <td>23.11</td>\n",
       "      <td>1</td>\n",
       "      <td>49</td>\n",
       "      <td>25.30</td>\n",
       "      <td>97.20</td>\n",
       "      <td>52</td>\n",
       "      <td>1</td>\n",
       "    </tr>\n",
       "    <tr>\n",
       "      <th>1</th>\n",
       "      <td>1</td>\n",
       "      <td>144</td>\n",
       "      <td>0.01</td>\n",
       "      <td>4.41</td>\n",
       "      <td>28.61</td>\n",
       "      <td>0</td>\n",
       "      <td>55</td>\n",
       "      <td>28.87</td>\n",
       "      <td>2.06</td>\n",
       "      <td>63</td>\n",
       "      <td>1</td>\n",
       "    </tr>\n",
       "    <tr>\n",
       "      <th>2</th>\n",
       "      <td>1</td>\n",
       "      <td>118</td>\n",
       "      <td>0.08</td>\n",
       "      <td>3.48</td>\n",
       "      <td>32.28</td>\n",
       "      <td>1</td>\n",
       "      <td>52</td>\n",
       "      <td>29.14</td>\n",
       "      <td>3.81</td>\n",
       "      <td>46</td>\n",
       "      <td>0</td>\n",
       "    </tr>\n",
       "    <tr>\n",
       "      <th>3</th>\n",
       "      <td>1</td>\n",
       "      <td>170</td>\n",
       "      <td>7.50</td>\n",
       "      <td>6.41</td>\n",
       "      <td>38.03</td>\n",
       "      <td>1</td>\n",
       "      <td>51</td>\n",
       "      <td>31.99</td>\n",
       "      <td>24.26</td>\n",
       "      <td>58</td>\n",
       "      <td>1</td>\n",
       "    </tr>\n",
       "    <tr>\n",
       "      <th>4</th>\n",
       "      <td>1</td>\n",
       "      <td>134</td>\n",
       "      <td>13.60</td>\n",
       "      <td>3.50</td>\n",
       "      <td>27.78</td>\n",
       "      <td>1</td>\n",
       "      <td>60</td>\n",
       "      <td>25.99</td>\n",
       "      <td>57.34</td>\n",
       "      <td>49</td>\n",
       "      <td>1</td>\n",
       "    </tr>\n",
       "    <tr>\n",
       "      <th>...</th>\n",
       "      <td>...</td>\n",
       "      <td>...</td>\n",
       "      <td>...</td>\n",
       "      <td>...</td>\n",
       "      <td>...</td>\n",
       "      <td>...</td>\n",
       "      <td>...</td>\n",
       "      <td>...</td>\n",
       "      <td>...</td>\n",
       "      <td>...</td>\n",
       "      <td>...</td>\n",
       "    </tr>\n",
       "    <tr>\n",
       "      <th>457</th>\n",
       "      <td>1</td>\n",
       "      <td>214</td>\n",
       "      <td>0.40</td>\n",
       "      <td>5.98</td>\n",
       "      <td>31.72</td>\n",
       "      <td>0</td>\n",
       "      <td>64</td>\n",
       "      <td>28.45</td>\n",
       "      <td>0.00</td>\n",
       "      <td>58</td>\n",
       "      <td>0</td>\n",
       "    </tr>\n",
       "    <tr>\n",
       "      <th>458</th>\n",
       "      <td>1</td>\n",
       "      <td>182</td>\n",
       "      <td>4.20</td>\n",
       "      <td>4.41</td>\n",
       "      <td>32.10</td>\n",
       "      <td>0</td>\n",
       "      <td>52</td>\n",
       "      <td>28.61</td>\n",
       "      <td>18.72</td>\n",
       "      <td>52</td>\n",
       "      <td>1</td>\n",
       "    </tr>\n",
       "    <tr>\n",
       "      <th>459</th>\n",
       "      <td>1</td>\n",
       "      <td>108</td>\n",
       "      <td>3.00</td>\n",
       "      <td>1.59</td>\n",
       "      <td>15.23</td>\n",
       "      <td>0</td>\n",
       "      <td>40</td>\n",
       "      <td>20.09</td>\n",
       "      <td>26.64</td>\n",
       "      <td>55</td>\n",
       "      <td>0</td>\n",
       "    </tr>\n",
       "    <tr>\n",
       "      <th>460</th>\n",
       "      <td>1</td>\n",
       "      <td>118</td>\n",
       "      <td>5.40</td>\n",
       "      <td>11.61</td>\n",
       "      <td>30.79</td>\n",
       "      <td>0</td>\n",
       "      <td>64</td>\n",
       "      <td>27.35</td>\n",
       "      <td>23.97</td>\n",
       "      <td>40</td>\n",
       "      <td>0</td>\n",
       "    </tr>\n",
       "    <tr>\n",
       "      <th>461</th>\n",
       "      <td>1</td>\n",
       "      <td>132</td>\n",
       "      <td>0.00</td>\n",
       "      <td>4.82</td>\n",
       "      <td>33.41</td>\n",
       "      <td>1</td>\n",
       "      <td>62</td>\n",
       "      <td>14.70</td>\n",
       "      <td>0.00</td>\n",
       "      <td>46</td>\n",
       "      <td>1</td>\n",
       "    </tr>\n",
       "  </tbody>\n",
       "</table>\n",
       "<p>462 rows × 11 columns</p>\n",
       "</div>"
      ],
      "text/plain": [
       "     inter  sbp  tobacco    ldl  adiposity  famhist  typea  obesity  alcohol  \\\n",
       "0        1  160    12.00   5.73      23.11        1     49    25.30    97.20   \n",
       "1        1  144     0.01   4.41      28.61        0     55    28.87     2.06   \n",
       "2        1  118     0.08   3.48      32.28        1     52    29.14     3.81   \n",
       "3        1  170     7.50   6.41      38.03        1     51    31.99    24.26   \n",
       "4        1  134    13.60   3.50      27.78        1     60    25.99    57.34   \n",
       "..     ...  ...      ...    ...        ...      ...    ...      ...      ...   \n",
       "457      1  214     0.40   5.98      31.72        0     64    28.45     0.00   \n",
       "458      1  182     4.20   4.41      32.10        0     52    28.61    18.72   \n",
       "459      1  108     3.00   1.59      15.23        0     40    20.09    26.64   \n",
       "460      1  118     5.40  11.61      30.79        0     64    27.35    23.97   \n",
       "461      1  132     0.00   4.82      33.41        1     62    14.70     0.00   \n",
       "\n",
       "     age  chd  \n",
       "0     52    1  \n",
       "1     63    1  \n",
       "2     46    0  \n",
       "3     58    1  \n",
       "4     49    1  \n",
       "..   ...  ...  \n",
       "457   58    0  \n",
       "458   52    1  \n",
       "459   55    0  \n",
       "460   40    0  \n",
       "461   46    1  \n",
       "\n",
       "[462 rows x 11 columns]"
      ]
     },
     "execution_count": 41,
     "metadata": {},
     "output_type": "execute_result"
    }
   ],
   "source": [
    "data = pd.read_csv('data/coris.txt', delimiter=\",\")\n",
    "n = 462\n",
    "k = 10\n",
    "for i in range(n):\n",
    "    data.loc[i, \"inter\"] = 1\n",
    "data"
   ]
  },
  {
   "cell_type": "code",
   "execution_count": 42,
   "id": "00cdd687",
   "metadata": {},
   "outputs": [
    {
     "name": "stdout",
     "output_type": "stream",
     "text": [
      "[[1.000e+00 1.600e+02 1.200e+01 ... 2.530e+01 9.720e+01 5.200e+01]\n",
      " [1.000e+00 1.440e+02 1.000e-02 ... 2.887e+01 2.060e+00 6.300e+01]\n",
      " [1.000e+00 1.180e+02 8.000e-02 ... 2.914e+01 3.810e+00 4.600e+01]\n",
      " ...\n",
      " [1.000e+00 1.080e+02 3.000e+00 ... 2.009e+01 2.664e+01 5.500e+01]\n",
      " [1.000e+00 1.180e+02 5.400e+00 ... 2.735e+01 2.397e+01 4.000e+01]\n",
      " [1.000e+00 1.320e+02 0.000e+00 ... 1.470e+01 0.000e+00 4.600e+01]] [1. 1. 0. 1. 1. 0. 0. 1. 0. 1. 1. 1. 0. 0. 0. 0. 0. 1. 1. 1. 1. 0. 0. 0.\n",
      " 0. 1. 0. 1. 0. 1. 1. 1. 1. 1. 0. 1. 0. 0. 0. 1. 1. 0. 0. 1. 0. 0. 1. 1.\n",
      " 0. 0. 0. 0. 1. 1. 0. 0. 0. 1. 0. 0. 0. 0. 0. 0. 0. 0. 0. 0. 0. 1. 0. 0.\n",
      " 0. 0. 0. 0. 0. 1. 1. 0. 1. 1. 1. 1. 0. 0. 1. 0. 0. 0. 0. 1. 0. 1. 0. 0.\n",
      " 0. 0. 1. 0. 0. 0. 0. 0. 0. 0. 1. 1. 0. 0. 0. 1. 0. 1. 1. 0. 1. 0. 1. 0.\n",
      " 0. 0. 0. 1. 0. 1. 0. 0. 1. 0. 0. 1. 1. 0. 0. 1. 0. 0. 0. 0. 1. 1. 0. 0.\n",
      " 0. 0. 0. 1. 1. 1. 0. 0. 0. 0. 1. 1. 0. 0. 0. 1. 0. 1. 0. 0. 0. 0. 1. 1.\n",
      " 0. 0. 0. 0. 0. 0. 0. 1. 0. 0. 0. 0. 0. 0. 1. 1. 1. 1. 0. 0. 0. 1. 1. 1.\n",
      " 1. 0. 0. 0. 0. 0. 1. 0. 0. 1. 0. 0. 0. 0. 0. 0. 0. 0. 0. 1. 0. 0. 0. 1.\n",
      " 1. 0. 0. 0. 0. 1. 0. 1. 0. 0. 1. 1. 1. 1. 1. 0. 1. 0. 0. 1. 0. 0. 0. 0.\n",
      " 1. 0. 0. 1. 1. 0. 1. 0. 0. 1. 0. 0. 1. 0. 0. 1. 1. 0. 1. 0. 1. 0. 0. 0.\n",
      " 1. 0. 0. 0. 0. 1. 1. 1. 0. 0. 1. 1. 1. 0. 0. 0. 1. 0. 1. 0. 1. 0. 0. 0.\n",
      " 0. 1. 0. 0. 0. 1. 0. 1. 0. 0. 1. 0. 0. 1. 0. 1. 0. 0. 0. 1. 0. 0. 1. 0.\n",
      " 1. 0. 0. 0. 0. 0. 1. 0. 0. 0. 0. 1. 0. 1. 0. 0. 0. 0. 0. 0. 1. 1. 1. 0.\n",
      " 1. 0. 0. 0. 0. 1. 1. 0. 0. 1. 1. 0. 1. 0. 0. 0. 1. 1. 0. 1. 0. 0. 0. 0.\n",
      " 1. 0. 0. 0. 1. 0. 0. 0. 0. 0. 1. 0. 0. 0. 0. 0. 0. 0. 0. 1. 0. 0. 1. 0.\n",
      " 0. 1. 0. 1. 0. 1. 1. 1. 0. 0. 0. 0. 0. 1. 1. 0. 0. 0. 1. 1. 0. 0. 1. 1.\n",
      " 0. 0. 1. 0. 1. 1. 0. 1. 0. 0. 0. 0. 0. 0. 1. 1. 1. 0. 0. 0. 0. 0. 0. 0.\n",
      " 0. 0. 0. 0. 0. 0. 0. 0. 0. 0. 0. 0. 0. 0. 1. 0. 0. 1. 0. 0. 0. 1. 1. 1.\n",
      " 0. 0. 1. 0. 0. 1.]\n"
     ]
    }
   ],
   "source": [
    "labels = data.columns.to_numpy()[:-1]\n",
    "X = data[labels].to_numpy(dtype=np.float64)\n",
    "Y = data[\"chd\"].to_numpy(dtype=np.float64)\n",
    "print(X, Y)"
   ]
  },
  {
   "cell_type": "code",
   "execution_count": 43,
   "id": "9a1e126f",
   "metadata": {},
   "outputs": [],
   "source": [
    "def multiLinearFit(X, W, Y):\n",
    "    n, k = X.shape\n",
    "    beta = None\n",
    "    try:\n",
    "        beta = np.linalg.inv(X.transpose().dot(W).dot(X)).dot(X.transpose()).dot(W).dot(Y)\n",
    "    except:\n",
    "        print(X)\n",
    "    Yhat = X.dot(beta)\n",
    "    trainingErr = np.sum((Y-Yhat)**2)\n",
    "    sig = (trainingErr/(n-k))**0.5\n",
    "    seMatrix = sig**2*np.linalg.inv(X.transpose().dot(X))\n",
    "    return beta, sig, seMatrix, trainingErr\n",
    "\n",
    "def logisticFit(X, Y, err=0.01, maxIter=1000):\n",
    "    n, k = X.shape\n",
    "    beta = np.zeros(shape=k)\n",
    "    \n",
    "    def logit(x):\n",
    "        return np.log(x/1-x)\n",
    "    def logitInv(x):\n",
    "        return 1/(np.exp(-x)+1)\n",
    "    \n",
    "    Z = np.zeros(shape=n)\n",
    "    p = np.zeros(shape=n)\n",
    "    seMatrix = np.zeros(shape=(k, k))\n",
    "    for _ in range(maxIter):\n",
    "        for i in range(n):\n",
    "            p[i] = logitInv(beta.dot(X[i]))\n",
    "            Z[i] = beta.dot(X[i]) + (Y[i]-p[i])/(p[i]*(1-p[i]))\n",
    "        W = np.diag([float(p[i])*(1-p[i]) for i in range(n)])\n",
    "        #print(W)\n",
    "        beta, sig, seMatrix, trainingErr = multiLinearFit(X, W, Z)\n",
    "    \n",
    "    Zhat = X.dot(beta)\n",
    "    phat = logitInv(Zhat)\n",
    "    \n",
    "    trainingErrRate = np.mean(np.array([(phat[i]<0.5 and Y[i]==1) or (phat[i]>0.5 and Y[i]==0) for i in range(n)]))       \n",
    "    return beta, seMatrix, trainingErrRate"
   ]
  },
  {
   "cell_type": "code",
   "execution_count": 46,
   "id": "017cce59",
   "metadata": {},
   "outputs": [],
   "source": [
    "def evalAic(X, Y, beta):\n",
    "    n, k = X.shape\n",
    "    \n",
    "    def logit(x):\n",
    "        return np.log(x/1-x)\n",
    "    def logitInv(x):\n",
    "        return 1/(np.exp(-x)+1)\n",
    "    \n",
    "    Zhat = X.dot(beta)\n",
    "    phat = logitInv(Zhat)\n",
    "    \n",
    "    res = np.sum(Y*np.log(phat) + (1-Y)*np.log(1-phat)) - k\n",
    "    return res"
   ]
  },
  {
   "cell_type": "code",
   "execution_count": 45,
   "id": "f9557979",
   "metadata": {},
   "outputs": [
    {
     "name": "stdout",
     "output_type": "stream",
     "text": [
      "[-6.15072086e+00  6.50401713e-03  7.93764457e-02  1.73923898e-01\n",
      "  1.85865682e-02  9.25370419e-01  3.95950250e-02 -6.29098693e-02\n",
      "  1.21662401e-04  4.52253496e-02] [1.3433875442296317, 0.006947545339186011, 0.03191814756890948, 0.07009223346989833, 0.0313179004895241, 0.27101642860015357, 0.013374943482654238, 0.04616998616288192, 0.005439492903561718, 0.013045642556208107] 0.2662337662337662\n",
      "-246.07001618624892\n"
     ]
    }
   ],
   "source": [
    "beta, seMatrix, trainingErrRate = logisticFit(X, Y)\n",
    "print(beta, [seMatrix[j, j]**0.5 for j in range(k)], trainingErrRate)\n",
    "print(evalAic(X, Y, beta))"
   ]
  },
  {
   "cell_type": "code",
   "execution_count": 52,
   "id": "38744866",
   "metadata": {},
   "outputs": [
    {
     "name": "stdout",
     "output_type": "stream",
     "text": [
      "AIC table: \n",
      "    inter |       sbp |   tobacco |       ldl | adiposity |   famhist |     typea |   obesity |   alcohol |       age | \n",
      "  -257.03 |   -245.72 |   -249.84 |   -249.54 |   -245.27 |   -253.44 |   -250.52 |   -246.12 |   -245.07 |   -252.26 | \n",
      "AIC table: \n",
      "    inter |       sbp |   tobacco |       ldl | adiposity |   famhist |     typea |   obesity |       age | \n",
      "  -256.03 |   -244.73 |   -249.03 |   -248.58 |   -244.27 |   -252.50 |   -249.53 |   -245.12 |   -251.32 | \n",
      "AIC table: \n",
      "    inter |       sbp |   tobacco |       ldl |   famhist |     typea |   obesity |       age | \n",
      "  -258.09 |   -243.99 |   -248.27 |   -248.47 |   -251.69 |   -248.60 |   -244.33 |   -254.74 | \n",
      "AIC table: \n",
      "    inter |   tobacco |       ldl |   famhist |     typea |   obesity |       age | \n",
      "  -258.78 |   -248.09 |   -248.27 |   -251.29 |   -248.15 |   -243.84 |   -257.06 | \n",
      "AIC table: \n",
      "    inter |   tobacco |       ldl |   famhist |     typea |       age | \n",
      "  -274.34 |   -248.02 |   -247.36 |   -251.05 |   -247.72 |   -256.19 | \n",
      "Final model: \n",
      "    inter |   tobacco |       ldl |   famhist |     typea |       age | \n",
      "   -6.446 |     0.080 |     0.162 |     0.908 |     0.037 |     0.050 | "
     ]
    }
   ],
   "source": [
    "model = [i for i in range(k)]\n",
    "matrix = X.copy()\n",
    "beta, seMatrix, trainingErrRate = logisticFit(matrix, Y, maxIter=20)\n",
    "bestAic = evalAic(matrix, Y, beta)\n",
    "score = [0]*k\n",
    "\n",
    "for i in range(k):\n",
    "    bestCov = -1 \n",
    "    #summary =  []\n",
    "    for j in range(k):\n",
    "        if not j in model:continue\n",
    "        model.remove(j)\n",
    "        temp = matrix[:, model]        \n",
    "        beta, seMatrix, trainingErrRate = logisticFit(temp, Y, maxIter=20)\n",
    "        Aic = evalAic(temp, Y, beta)\n",
    "        #summary.append([j, Aic])\n",
    "        score[j] = Aic\n",
    "        if Aic > bestAic:\n",
    "            bestAic = Aic\n",
    "            bestCov = j\n",
    "        model.append(j)\n",
    "        model.sort()\n",
    "    print(\"AIC table: \")\n",
    "    for j in model: \n",
    "        print(f'{labels[j]:>9} | ', end = \"\")\n",
    "    print()\n",
    "    for j in model:  \n",
    "        print(f'{float(score[j]):9.2f} | ', end = \"\")\n",
    "    print()\n",
    "    #print(summary)\n",
    "    if bestCov == -1: break\n",
    "    model.remove(bestCov)\n",
    "beta, seMatrix, trainingErrRate = logisticFit(matrix[:, model], Y, maxIter=20)\n",
    "print(\"Final model: \")\n",
    "for j in model: \n",
    "    print(f'{labels[j]:>9} | ', end = \"\")\n",
    "print()\n",
    "for j in range(len(model)):  \n",
    "    print(f'{float(beta[j]):9.3f} | ', end = \"\")\n"
   ]
  },
  {
   "cell_type": "code",
   "execution_count": null,
   "id": "eef8b9df",
   "metadata": {},
   "outputs": [],
   "source": []
  }
 ],
 "metadata": {
  "kernelspec": {
   "display_name": "Python 3 (ipykernel)",
   "language": "python",
   "name": "python3"
  },
  "language_info": {
   "codemirror_mode": {
    "name": "ipython",
    "version": 3
   },
   "file_extension": ".py",
   "mimetype": "text/x-python",
   "name": "python",
   "nbconvert_exporter": "python",
   "pygments_lexer": "ipython3",
   "version": "3.10.5"
  }
 },
 "nbformat": 4,
 "nbformat_minor": 5
}
