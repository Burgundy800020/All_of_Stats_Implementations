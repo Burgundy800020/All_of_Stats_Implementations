{
 "cells": [
  {
   "cell_type": "code",
   "execution_count": 3,
   "id": "cd9fefd1",
   "metadata": {},
   "outputs": [],
   "source": [
    "# Chapter 7, problem 3, Normal distribution\n",
    "import numpy as np\n",
    "import matplotlib.pyplot as plt\n",
    "import pandas as pd\n",
    "import scipy.stats as scp"
   ]
  },
  {
   "cell_type": "code",
   "execution_count": 4,
   "id": "7c796759",
   "metadata": {},
   "outputs": [
    {
     "data": {
      "text/html": [
       "<div>\n",
       "<style scoped>\n",
       "    .dataframe tbody tr th:only-of-type {\n",
       "        vertical-align: middle;\n",
       "    }\n",
       "\n",
       "    .dataframe tbody tr th {\n",
       "        vertical-align: top;\n",
       "    }\n",
       "\n",
       "    .dataframe thead th {\n",
       "        text-align: right;\n",
       "    }\n",
       "</style>\n",
       "<table border=\"1\" class=\"dataframe\">\n",
       "  <thead>\n",
       "    <tr style=\"text-align: right;\">\n",
       "      <th></th>\n",
       "      <th>Obs.</th>\n",
       "      <th>lat</th>\n",
       "      <th>long</th>\n",
       "      <th>depth</th>\n",
       "      <th>mag</th>\n",
       "      <th>stations</th>\n",
       "    </tr>\n",
       "  </thead>\n",
       "  <tbody>\n",
       "    <tr>\n",
       "      <th>0</th>\n",
       "      <td>1</td>\n",
       "      <td>-20.42</td>\n",
       "      <td>181.62</td>\n",
       "      <td>562</td>\n",
       "      <td>4.8</td>\n",
       "      <td>41</td>\n",
       "    </tr>\n",
       "    <tr>\n",
       "      <th>1</th>\n",
       "      <td>2</td>\n",
       "      <td>-20.62</td>\n",
       "      <td>181.03</td>\n",
       "      <td>650</td>\n",
       "      <td>4.2</td>\n",
       "      <td>15</td>\n",
       "    </tr>\n",
       "    <tr>\n",
       "      <th>2</th>\n",
       "      <td>3</td>\n",
       "      <td>-26.00</td>\n",
       "      <td>184.10</td>\n",
       "      <td>42</td>\n",
       "      <td>5.4</td>\n",
       "      <td>43</td>\n",
       "    </tr>\n",
       "    <tr>\n",
       "      <th>3</th>\n",
       "      <td>4</td>\n",
       "      <td>-17.97</td>\n",
       "      <td>181.66</td>\n",
       "      <td>626</td>\n",
       "      <td>4.1</td>\n",
       "      <td>19</td>\n",
       "    </tr>\n",
       "    <tr>\n",
       "      <th>4</th>\n",
       "      <td>5</td>\n",
       "      <td>-20.42</td>\n",
       "      <td>181.96</td>\n",
       "      <td>649</td>\n",
       "      <td>4.0</td>\n",
       "      <td>11</td>\n",
       "    </tr>\n",
       "    <tr>\n",
       "      <th>...</th>\n",
       "      <td>...</td>\n",
       "      <td>...</td>\n",
       "      <td>...</td>\n",
       "      <td>...</td>\n",
       "      <td>...</td>\n",
       "      <td>...</td>\n",
       "    </tr>\n",
       "    <tr>\n",
       "      <th>995</th>\n",
       "      <td>996</td>\n",
       "      <td>-25.93</td>\n",
       "      <td>179.54</td>\n",
       "      <td>470</td>\n",
       "      <td>4.4</td>\n",
       "      <td>22</td>\n",
       "    </tr>\n",
       "    <tr>\n",
       "      <th>996</th>\n",
       "      <td>997</td>\n",
       "      <td>-12.28</td>\n",
       "      <td>167.06</td>\n",
       "      <td>248</td>\n",
       "      <td>4.7</td>\n",
       "      <td>35</td>\n",
       "    </tr>\n",
       "    <tr>\n",
       "      <th>997</th>\n",
       "      <td>998</td>\n",
       "      <td>-20.13</td>\n",
       "      <td>184.20</td>\n",
       "      <td>244</td>\n",
       "      <td>4.5</td>\n",
       "      <td>34</td>\n",
       "    </tr>\n",
       "    <tr>\n",
       "      <th>998</th>\n",
       "      <td>999</td>\n",
       "      <td>-17.40</td>\n",
       "      <td>187.80</td>\n",
       "      <td>40</td>\n",
       "      <td>4.5</td>\n",
       "      <td>14</td>\n",
       "    </tr>\n",
       "    <tr>\n",
       "      <th>999</th>\n",
       "      <td>1000</td>\n",
       "      <td>-21.59</td>\n",
       "      <td>170.56</td>\n",
       "      <td>165</td>\n",
       "      <td>6.0</td>\n",
       "      <td>119</td>\n",
       "    </tr>\n",
       "  </tbody>\n",
       "</table>\n",
       "<p>1000 rows × 6 columns</p>\n",
       "</div>"
      ],
      "text/plain": [
       "     Obs.    lat    long  depth  mag  stations\n",
       "0       1 -20.42  181.62    562  4.8        41\n",
       "1       2 -20.62  181.03    650  4.2        15\n",
       "2       3 -26.00  184.10     42  5.4        43\n",
       "3       4 -17.97  181.66    626  4.1        19\n",
       "4       5 -20.42  181.96    649  4.0        11\n",
       "..    ...    ...     ...    ...  ...       ...\n",
       "995   996 -25.93  179.54    470  4.4        22\n",
       "996   997 -12.28  167.06    248  4.7        35\n",
       "997   998 -20.13  184.20    244  4.5        34\n",
       "998   999 -17.40  187.80     40  4.5        14\n",
       "999  1000 -21.59  170.56    165  6.0       119\n",
       "\n",
       "[1000 rows x 6 columns]"
      ]
     },
     "execution_count": 4,
     "metadata": {},
     "output_type": "execute_result"
    }
   ],
   "source": [
    "df = pd.read_csv(\"fijiquakes.dat\", delimiter=\"\\s+\")\n",
    "df"
   ]
  },
  {
   "cell_type": "code",
   "execution_count": 5,
   "id": "f6bd6125",
   "metadata": {},
   "outputs": [
    {
     "data": {
      "text/plain": [
       "0      4.8\n",
       "1      4.2\n",
       "2      5.4\n",
       "3      4.1\n",
       "4      4.0\n",
       "      ... \n",
       "995    4.4\n",
       "996    4.7\n",
       "997    4.5\n",
       "998    4.5\n",
       "999    6.0\n",
       "Name: mag, Length: 1000, dtype: float64"
      ]
     },
     "execution_count": 5,
     "metadata": {},
     "output_type": "execute_result"
    }
   ],
   "source": [
    "data = df.mag\n",
    "data"
   ]
  },
  {
   "cell_type": "code",
   "execution_count": 6,
   "id": "09c20ec7",
   "metadata": {},
   "outputs": [],
   "source": [
    "data_sort = np.sort(data)\n",
    "n = len(data_sort)"
   ]
  },
  {
   "cell_type": "code",
   "execution_count": 7,
   "id": "69471284",
   "metadata": {},
   "outputs": [],
   "source": [
    "def ecdf(data, x_vec, alpha):\n",
    "    n = len(data)\n",
    "    eps = (np.log(2/alpha)/2/n) ** 0.5\n",
    "    F_lo, F_hat, F_hi = [], [], []\n",
    "    for x in x_vec:\n",
    "        if x >= data_sort[-1]:idx = n\n",
    "        elif x < data_sort[0]: idx = 0\n",
    "        else: idx = np.argwhere(data_sort>x)[0][0]\n",
    "        F_hat.append(idx/n)\n",
    "        F_lo.append(max(idx/n-eps, 0))\n",
    "        F_hi.append(min(idx/n+eps, 1))\n",
    "    return F_lo, F_hat, F_hi"
   ]
  },
  {
   "cell_type": "code",
   "execution_count": 8,
   "id": "1aad4078",
   "metadata": {},
   "outputs": [],
   "source": [
    "x_vec = np.linspace(3.5, 7, 100)\n",
    "F_lo, F_hat, F_hi = ecdf(data, x_vec, 0.05)"
   ]
  },
  {
   "cell_type": "code",
   "execution_count": 9,
   "id": "2b60275d",
   "metadata": {},
   "outputs": [
    {
     "data": {
      "image/png": "[encoded data removed]",
      "text/plain": [
       "<Figure size 640x480 with 1 Axes>"
      ]
     },
     "metadata": {},
     "output_type": "display_data"
    }
   ],
   "source": [
    "plt.plot(x_vec, F_hat, \"g.\", lw=5, alpha=0.6, label=\"F_hat\")\n",
    "plt.plot(x_vec, F_lo, \"b.\", lw=1, alpha=0.6, label=\"F_lo\")\n",
    "plt.plot(x_vec, F_hi, \"r.\", lw=1, alpha=0.6, label=\"F_hi\")\n",
    "plt.legend(loc=\"best\")\n",
    "plt.show()"
   ]
  },
  {
   "cell_type": "code",
   "execution_count": 14,
   "id": "f5ab4bac",
   "metadata": {},
   "outputs": [],
   "source": [
    "def eval_cdf(x):\n",
    "    idx = 0\n",
    "    if x >= data_sort[-1]: idx = n\n",
    "    elif x < data_sort[0]: idx = 0\n",
    "    else: idx = np.argwhere(data_sort>x)[0][0]\n",
    "    F = idx/n\n",
    "    se = (F*(1-F)/n) ** 0.5\n",
    "    return F, se"
   ]
  },
  {
   "cell_type": "code",
   "execution_count": 15,
   "id": "57b3fab4",
   "metadata": {},
   "outputs": [],
   "source": [
    "b, a = 4.9, 4.3\n",
    "F_a, se_a = eval_cdf(a)\n",
    "F_b, se_b = eval_cdf(b)\n",
    "theta_hat = F_b - F_a\n",
    "se_hat = (se_a**2 + se_b**2) ** 0.5\n",
    "\n"
   ]
  },
  {
   "cell_type": "code",
   "execution_count": 16,
   "id": "510de976",
   "metadata": {},
   "outputs": [
    {
     "name": "stdout",
     "output_type": "stream",
     "text": [
      "95% confidence interval: (0.4888836429282543, 0.5631163570717457)\n"
     ]
    }
   ],
   "source": [
    "z = scp.norm.ppf(0.975)\n",
    "print(f\"95% confidence interval: ({theta_hat-z*se_hat}, {theta_hat+z*se_hat})\")"
   ]
  },
  {
   "cell_type": "code",
   "execution_count": 38,
   "id": "a5353bb2",
   "metadata": {},
   "outputs": [
    {
     "data": {
      "text/html": [
       "<div>\n",
       "<style scoped>\n",
       "    .dataframe tbody tr th:only-of-type {\n",
       "        vertical-align: middle;\n",
       "    }\n",
       "\n",
       "    .dataframe tbody tr th {\n",
       "        vertical-align: top;\n",
       "    }\n",
       "\n",
       "    .dataframe thead th {\n",
       "        text-align: right;\n",
       "    }\n",
       "</style>\n",
       "<table border=\"1\" class=\"dataframe\">\n",
       "  <thead>\n",
       "    <tr style=\"text-align: right;\">\n",
       "      <th></th>\n",
       "      <th>eruptions</th>\n",
       "      <th>waiting</th>\n",
       "    </tr>\n",
       "  </thead>\n",
       "  <tbody>\n",
       "    <tr>\n",
       "      <th>1</th>\n",
       "      <td>3.600</td>\n",
       "      <td>79</td>\n",
       "    </tr>\n",
       "    <tr>\n",
       "      <th>2</th>\n",
       "      <td>1.800</td>\n",
       "      <td>54</td>\n",
       "    </tr>\n",
       "    <tr>\n",
       "      <th>3</th>\n",
       "      <td>3.333</td>\n",
       "      <td>74</td>\n",
       "    </tr>\n",
       "    <tr>\n",
       "      <th>4</th>\n",
       "      <td>2.283</td>\n",
       "      <td>62</td>\n",
       "    </tr>\n",
       "    <tr>\n",
       "      <th>5</th>\n",
       "      <td>4.533</td>\n",
       "      <td>85</td>\n",
       "    </tr>\n",
       "    <tr>\n",
       "      <th>...</th>\n",
       "      <td>...</td>\n",
       "      <td>...</td>\n",
       "    </tr>\n",
       "    <tr>\n",
       "      <th>268</th>\n",
       "      <td>4.117</td>\n",
       "      <td>81</td>\n",
       "    </tr>\n",
       "    <tr>\n",
       "      <th>269</th>\n",
       "      <td>2.150</td>\n",
       "      <td>46</td>\n",
       "    </tr>\n",
       "    <tr>\n",
       "      <th>270</th>\n",
       "      <td>4.417</td>\n",
       "      <td>90</td>\n",
       "    </tr>\n",
       "    <tr>\n",
       "      <th>271</th>\n",
       "      <td>1.817</td>\n",
       "      <td>46</td>\n",
       "    </tr>\n",
       "    <tr>\n",
       "      <th>272</th>\n",
       "      <td>4.467</td>\n",
       "      <td>74</td>\n",
       "    </tr>\n",
       "  </tbody>\n",
       "</table>\n",
       "<p>272 rows × 2 columns</p>\n",
       "</div>"
      ],
      "text/plain": [
       "     eruptions  waiting\n",
       "1        3.600       79\n",
       "2        1.800       54\n",
       "3        3.333       74\n",
       "4        2.283       62\n",
       "5        4.533       85\n",
       "..         ...      ...\n",
       "268      4.117       81\n",
       "269      2.150       46\n",
       "270      4.417       90\n",
       "271      1.817       46\n",
       "272      4.467       74\n",
       "\n",
       "[272 rows x 2 columns]"
      ]
     },
     "execution_count": 38,
     "metadata": {},
     "output_type": "execute_result"
    }
   ],
   "source": [
    "data = pd.read_csv(\"faithful.dat\", delimiter=\"\\s+\")\n",
    "data"
   ]
  },
  {
   "cell_type": "code",
   "execution_count": 39,
   "id": "04b092cc",
   "metadata": {},
   "outputs": [
    {
     "data": {
      "text/plain": [
       "1      79\n",
       "2      54\n",
       "3      74\n",
       "4      62\n",
       "5      85\n",
       "       ..\n",
       "268    81\n",
       "269    46\n",
       "270    90\n",
       "271    46\n",
       "272    74\n",
       "Name: waiting, Length: 272, dtype: int64"
      ]
     },
     "execution_count": 39,
     "metadata": {},
     "output_type": "execute_result"
    }
   ],
   "source": [
    "data = data.waiting\n",
    "data"
   ]
  },
  {
   "cell_type": "code",
   "execution_count": 40,
   "id": "cd54ba2a",
   "metadata": {},
   "outputs": [
    {
     "data": {
      "text/plain": [
       "array([79, 54, 74, 62, 85, 55, 88, 85, 51, 85, 54, 84, 78, 47, 83, 52, 62,\n",
       "       84, 52, 79, 51, 47, 78, 69, 74, 83, 55, 76, 78, 79, 73, 77, 66, 80,\n",
       "       74, 52, 48, 80, 59, 90, 80, 58, 84, 58, 73, 83, 64, 53, 82, 59, 75,\n",
       "       90, 54, 80, 54, 83, 71, 64, 77, 81, 59, 84, 48, 82, 60, 92, 78, 78,\n",
       "       65, 73, 82, 56, 79, 71, 62, 76, 60, 78, 76, 83, 75, 82, 70, 65, 73,\n",
       "       88, 76, 80, 48, 86, 60, 90, 50, 78, 63, 72, 84, 75, 51, 82, 62, 88,\n",
       "       49, 83, 81, 47, 84, 52, 86, 81, 75, 59, 89, 79, 59, 81, 50, 85, 59,\n",
       "       87, 53, 69, 77, 56, 88, 81, 45, 82, 55, 90, 45, 83, 56, 89, 46, 82,\n",
       "       51, 86, 53, 79, 81, 60, 82, 77, 76, 59, 80, 49, 96, 53, 77, 77, 65,\n",
       "       81, 71, 70, 81, 93, 53, 89, 45, 86, 58, 78, 66, 76, 63, 88, 52, 93,\n",
       "       49, 57, 77, 68, 81, 81, 73, 50, 85, 74, 55, 77, 83, 83, 51, 78, 84,\n",
       "       46, 83, 55, 81, 57, 76, 84, 77, 81, 87, 77, 51, 78, 60, 82, 91, 53,\n",
       "       78, 46, 77, 84, 49, 83, 71, 80, 49, 75, 64, 76, 53, 94, 55, 76, 50,\n",
       "       82, 54, 75, 78, 79, 78, 78, 70, 79, 70, 54, 86, 50, 90, 54, 54, 77,\n",
       "       79, 64, 75, 47, 86, 63, 85, 82, 57, 82, 67, 74, 54, 83, 73, 73, 88,\n",
       "       80, 71, 83, 56, 79, 78, 84, 58, 83, 43, 60, 75, 81, 46, 90, 46, 74],\n",
       "      dtype=int64)"
      ]
     },
     "execution_count": 40,
     "metadata": {},
     "output_type": "execute_result"
    }
   ],
   "source": [
    "data = np.array(data)\n",
    "data"
   ]
  },
  {
   "cell_type": "code",
   "execution_count": 22,
   "id": "13ca3a40",
   "metadata": {},
   "outputs": [],
   "source": [
    "mu = np.mean(data)\n"
   ]
  },
  {
   "cell_type": "code",
   "execution_count": 24,
   "id": "50414071",
   "metadata": {},
   "outputs": [],
   "source": [
    "def eval_std_dev(data, mu):\n",
    "    res = 0\n",
    "    for i in range(len(data)):\n",
    "        res += (data[i]-mu)* (data[i]-mu)\n",
    "    return (res/len(data))**0.5"
   ]
  },
  {
   "cell_type": "code",
   "execution_count": 25,
   "id": "ec8307fc",
   "metadata": {},
   "outputs": [],
   "source": [
    "sigma = eval_std_dev(data, mu)"
   ]
  },
  {
   "cell_type": "code",
   "execution_count": 28,
   "id": "b2282492",
   "metadata": {},
   "outputs": [
    {
     "name": "stdout",
     "output_type": "stream",
     "text": [
      "90% confidence interval: (48.57646087101601, 93.2176567760428)\n"
     ]
    }
   ],
   "source": [
    "z_90 = scp.norm.ppf(.95)\n",
    "print(f\"90% confidence interval: ({mu-z_90*sigma}, {mu+z_90*sigma})\")"
   ]
  },
  {
   "cell_type": "code",
   "execution_count": 33,
   "id": "75bf03d5",
   "metadata": {},
   "outputs": [],
   "source": [
    "def eval_median(data):\n",
    "    data = np.sort(data)\n",
    "    n = len(data)\n",
    "    if n % 2:return data[n//2];\n",
    "    else:return (data[(n-1)//2]+data[n//2])/2\n",
    "        "
   ]
  },
  {
   "cell_type": "code",
   "execution_count": 34,
   "id": "92ee5575",
   "metadata": {},
   "outputs": [
    {
     "name": "stdout",
     "output_type": "stream",
     "text": [
      "median: 76.0\n"
     ]
    }
   ],
   "source": [
    "med = eval_median(data)\n",
    "print(f\"median: {med}\")"
   ]
  },
  {
   "cell_type": "code",
   "execution_count": 42,
   "id": "b1e61fe8",
   "metadata": {},
   "outputs": [],
   "source": [
    "def bootstrap(data, stats, n_trials):\n",
    "    T_hat = stats(data)\n",
    "    n = len(data)\n",
    "    stats_boot = []\n",
    "    for trial in range(n_trials):\n",
    "        sample = []\n",
    "        for i in range(n):\n",
    "            idx = np.random.randint(0, n)\n",
    "            sample.append(data[idx])\n",
    "        stats_boot.append(stats(sample))\n",
    "    se = eval_std_dev(stats_boot, T_hat)\n",
    "    return T_hat, se"
   ]
  },
  {
   "cell_type": "code",
   "execution_count": 50,
   "id": "35630d16",
   "metadata": {},
   "outputs": [
    {
     "name": "stdout",
     "output_type": "stream",
     "text": [
      "median: 76.0 with standard error of 1.2278029157808674\n"
     ]
    }
   ],
   "source": [
    "T_hat, se = bootstrap(data, eval_median, 100)\n",
    "print(f\"median: {T_hat} with standard error of {se}\")"
   ]
  },
  {
   "cell_type": "code",
   "execution_count": 51,
   "id": "7e89d6a3",
   "metadata": {},
   "outputs": [],
   "source": [
    "data = pd.read_csv(\"cloud.txt\", delimiter=\"\\s+\")"
   ]
  },
  {
   "cell_type": "code",
   "execution_count": 55,
   "id": "77424382",
   "metadata": {},
   "outputs": [],
   "source": [
    "seeded = np.array(data.Seeded_Clouds)\n",
    "unseeded = np.array(data.Unseeded_Clouds)\n"
   ]
  },
  {
   "cell_type": "code",
   "execution_count": 54,
   "id": "24f881d8",
   "metadata": {},
   "outputs": [],
   "source": [
    "n = len(seeded)"
   ]
  },
  {
   "cell_type": "code",
   "execution_count": 60,
   "id": "e926b4d3",
   "metadata": {},
   "outputs": [],
   "source": [
    "def est_mean(data):\n",
    "    n = len(data)\n",
    "    mu = np.mean(data)\n",
    "    sigma = eval_std_dev(data, mu)\n",
    "    se = sigma/n**0.5\n",
    "    return mu, se\n",
    "    "
   ]
  },
  {
   "cell_type": "code",
   "execution_count": 61,
   "id": "7184ef3f",
   "metadata": {},
   "outputs": [
    {
     "name": "stdout",
     "output_type": "stream",
     "text": [
      "difference in precipitation: 277.3961538461539\n",
      "95% confidence interval: (10.597765101291259, 544.1945425910164)\n"
     ]
    }
   ],
   "source": [
    "mu1, se1 = est_mean(seeded)\n",
    "mu2, se2 = est_mean(unseeded)\n",
    "theta = mu1 - mu2\n",
    "se = (se1**2 + se2**2) ** 0.5\n",
    "z_95 = scp.norm.ppf(0.975)\n",
    "print(f\"difference in precipitation: {theta}\")\n",
    "print(f\"95% confidence interval: ({theta-se*z_95}, {theta+se*z_95})\")\n"
   ]
  },
  {
   "cell_type": "code",
   "execution_count": 59,
   "id": "149e64d5",
   "metadata": {},
   "outputs": [
    {
     "data": {
      "text/plain": [
       "26.696137926236442"
      ]
     },
     "execution_count": 59,
     "metadata": {},
     "output_type": "execute_result"
    }
   ],
   "source": [
    "se"
   ]
  },
  {
   "cell_type": "code",
   "execution_count": null,
   "id": "9fe97821",
   "metadata": {},
   "outputs": [],
   "source": []
  }
 ],
 "metadata": {
  "kernelspec": {
   "display_name": "Python 3 (ipykernel)",
   "language": "python",
   "name": "python3"
  },
  "language_info": {
   "codemirror_mode": {
    "name": "ipython",
    "version": 3
   },
   "file_extension": ".py",
   "mimetype": "text/x-python",
   "name": "python",
   "nbconvert_exporter": "python",
   "pygments_lexer": "ipython3",
   "version": "3.10.5"
  }
 },
 "nbformat": 4,
 "nbformat_minor": 5
}
