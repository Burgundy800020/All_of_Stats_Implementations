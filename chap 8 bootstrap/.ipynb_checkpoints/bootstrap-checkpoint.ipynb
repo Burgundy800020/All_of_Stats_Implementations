{
 "cells": [
  {
   "cell_type": "code",
   "execution_count": 1,
   "id": "1901b33c",
   "metadata": {},
   "outputs": [],
   "source": [
    "# Chapter 8\n",
    "import numpy as np\n",
    "import matplotlib.pyplot as plt\n",
    "import pandas as pd\n",
    "import scipy.stats as scp"
   ]
  },
  {
   "cell_type": "code",
   "execution_count": 39,
   "id": "eaef94b6",
   "metadata": {},
   "outputs": [
    {
     "data": {
      "text/plain": [
       "array([ 0.12252295,  0.13596966,  0.15529378,  0.18845981,  0.21891726,\n",
       "        0.2885554 ,  0.31445287,  0.3590595 ,  0.41168953,  0.42369159,\n",
       "        0.43158678,  0.4322877 ,  0.43717904,  0.47069561,  0.479635  ,\n",
       "        0.48879772,  0.49190806,  0.50945337,  0.61077307,  0.63588427,\n",
       "        0.66300924,  0.71791585,  0.73519473,  0.74709118,  0.78703647,\n",
       "        0.78730371,  0.82156999,  0.82963548,  0.84771501,  1.05539483,\n",
       "        1.05724443,  1.1244664 ,  1.24200259,  1.31754198,  1.32697853,\n",
       "        1.40579481,  1.58126803,  1.63656191,  1.67106475,  1.79537517,\n",
       "        1.93054141,  2.18530027,  2.30033637,  2.42182971,  3.46779018,\n",
       "        3.84773303,  4.38355939,  4.78488152,  7.24897402, 14.99079638])"
      ]
     },
     "execution_count": 39,
     "metadata": {},
     "output_type": "execute_result"
    }
   ],
   "source": [
    "n = 50\n",
    "ys = np.random.normal(0, 1, size=n)\n",
    "xs = np.exp(ys)\n",
    "xs = np.sort(xs)\n",
    "xs"
   ]
  },
  {
   "cell_type": "code",
   "execution_count": 5,
   "id": "05c72d12",
   "metadata": {},
   "outputs": [],
   "source": [
    "xvec = np.linspace(0, 12, 100)"
   ]
  },
  {
   "cell_type": "code",
   "execution_count": 9,
   "id": "64bedfb7",
   "metadata": {},
   "outputs": [],
   "source": [
    "def ecdf(data, x_vec, alpha):\n",
    "    n = len(data)\n",
    "    data_sort = np.sort(data)\n",
    "    eps = (np.log(2/alpha)/2/n) ** 0.5\n",
    "    F_lo, F_hat, F_hi = [], [], []\n",
    "    for x in x_vec:\n",
    "        if x >= data_sort[-1]:idx = n\n",
    "        elif x < data_sort[0]: idx = 0\n",
    "        else: idx = np.argwhere(data_sort>x)[0][0]\n",
    "        F_hat.append(idx/n)\n",
    "        F_lo.append(max(idx/n-eps, 0))\n",
    "        F_hi.append(min(idx/n+eps, 1))\n",
    "    return F_lo, F_hat, F_hi"
   ]
  },
  {
   "cell_type": "code",
   "execution_count": 11,
   "id": "a2a91bb0",
   "metadata": {},
   "outputs": [
    {
     "data": {
      "image/png": "[encoded data removed]",
      "text/plain": [
       "<Figure size 640x480 with 1 Axes>"
      ]
     },
     "metadata": {},
     "output_type": "display_data"
    }
   ],
   "source": [
    "F_lo, F_hat, F_hi = ecdf(xs, xvec, 0.05)\n",
    "plt.plot(xvec, F_hat)\n",
    "plt.title(\"cdf of e^y, y normal\")\n",
    "plt.show()"
   ]
  },
  {
   "cell_type": "code",
   "execution_count": 30,
   "id": "3ddc351d",
   "metadata": {},
   "outputs": [],
   "source": [
    "def eval_skew(data):\n",
    "    n = len(data)\n",
    "    mu = np.mean(data)\n",
    "    skew = 0\n",
    "    for pt in data: skew += (pt-mu)**3\n",
    "    se = np.std(data)\n",
    "    skew = skew/(se**3)/n\n",
    "    return skew"
   ]
  },
  {
   "cell_type": "code",
   "execution_count": 2,
   "id": "bbe23fb6",
   "metadata": {},
   "outputs": [],
   "source": [
    "def bootstrap(data, stats, B):\n",
    "    n = len(data)\n",
    "    Tboot = []\n",
    "    for boot in range(B):\n",
    "        sample = np.random.choice(data, n, replace=True)\n",
    "        Tboot.append(stats(sample))\n",
    "    return Tboot"
   ]
  },
  {
   "cell_type": "code",
   "execution_count": 4,
   "id": "5ca1c44c",
   "metadata": {},
   "outputs": [],
   "source": [
    "#sorted data\n",
    "def eval_quantile(data, p):\n",
    "    n = len(data)\n",
    "    idx = (int)(p*n)\n",
    "    return (data[-1] if idx == n else data[idx])"
   ]
  },
  {
   "cell_type": "code",
   "execution_count": 26,
   "id": "27f79660",
   "metadata": {},
   "outputs": [
    {
     "data": {
      "text/plain": [
       "array([ 0.12720341,  0.15883204,  0.17277754,  0.20486888,  0.24312527,\n",
       "        0.27635298,  0.29772651,  0.30494611,  0.30710643,  0.35800875,\n",
       "        0.38483579,  0.40201743,  0.40530076,  0.41871969,  0.62429983,\n",
       "        0.63788492,  0.65939979,  0.66916544,  0.70340802,  0.72512955,\n",
       "        0.74666193,  0.8012671 ,  0.9205821 ,  0.95658848,  0.96216893,\n",
       "        1.18446052,  1.21153874,  1.25560904,  1.31528642,  1.56115884,\n",
       "        1.63015743,  1.72851296,  1.82001858,  1.83872734,  1.91994428,\n",
       "        2.17643197,  2.28051884,  2.61621798,  2.93772927,  2.96603513,\n",
       "        3.12080266,  3.64719953,  3.87949834,  4.42641833,  4.71392627,\n",
       "        6.35965601,  6.79586885,  8.96387263,  9.20583408, 11.36427522])"
      ]
     },
     "execution_count": 26,
     "metadata": {},
     "output_type": "execute_result"
    }
   ],
   "source": [
    "xs = np.sort(xs)\n",
    "xs"
   ]
  },
  {
   "cell_type": "code",
   "execution_count": 12,
   "id": "e45b699f",
   "metadata": {},
   "outputs": [
    {
     "ename": "NameError",
     "evalue": "name 'eval_skew' is not defined",
     "output_type": "error",
     "traceback": [
      "\u001b[1;31m---------------------------------------------------------------------------\u001b[0m",
      "\u001b[1;31mNameError\u001b[0m                                 Traceback (most recent call last)",
      "Cell \u001b[1;32mIn [12], line 12\u001b[0m\n\u001b[0;32m      8\u001b[0m perc_r \u001b[38;5;241m=\u001b[39m []\n\u001b[0;32m     10\u001b[0m alpha \u001b[38;5;241m=\u001b[39m \u001b[38;5;241m0.05\u001b[39m\n\u001b[1;32m---> 12\u001b[0m T_hat \u001b[38;5;241m=\u001b[39m \u001b[43meval_skew\u001b[49m(xs)\n\u001b[0;32m     13\u001b[0m z \u001b[38;5;241m=\u001b[39m scp\u001b[38;5;241m.\u001b[39mnorm\u001b[38;5;241m.\u001b[39mppf(\u001b[38;5;241m1\u001b[39m\u001b[38;5;241m-\u001b[39malpha\u001b[38;5;241m/\u001b[39m\u001b[38;5;241m2\u001b[39m)\n\u001b[0;32m     15\u001b[0m \u001b[38;5;28;01mfor\u001b[39;00m trial \u001b[38;5;129;01min\u001b[39;00m \u001b[38;5;28mrange\u001b[39m(trial_num):\n",
      "\u001b[1;31mNameError\u001b[0m: name 'eval_skew' is not defined"
     ]
    }
   ],
   "source": [
    "trial_num = 10\n",
    "B = 1000\n",
    "norm_l = []\n",
    "norm_r = []\n",
    "piv_l = []\n",
    "piv_r = []\n",
    "perc_l = []\n",
    "perc_r = []\n",
    "\n",
    "alpha = 0.05\n",
    "\n",
    "T_hat = eval_skew(xs)\n",
    "z = scp.norm.ppf(1-alpha/2)\n",
    "\n",
    "for trial in range(trial_num):\n",
    "    T_boot = bootstrap(xs, eval_skew, B)\n",
    "    T_boot = np.sort(T_boot)\n",
    "    se = eval_std_dev(T_boot)\n",
    "    norm_l.append(T_hat-z*se)\n",
    "    norm_r.append(T_hat+z*se)\n",
    "    quant_hi = eval_quantile(T_boot, 1-alpha/2)\n",
    "    quant_lo = eval_quantile(T_boot, alpha/2)\n",
    "    perc_l.append(quant_lo)\n",
    "    perc_r.append(quant_hi)\n",
    "    piv_l.append(2*T_hat-quant_hi)\n",
    "    piv_r.append(2*T_hat-quant_lo)\n",
    "\n",
    "print(f\"normal: ({np.mean(norm_l)}, {np.mean(norm_r)})\")\n",
    "print(f\"percentile: ({np.mean(perc_l)}, {np.mean(perc_r)})\")\n",
    "print(f\"pivotal: ({np.mean(piv_l)}, {np.mean(piv_r)})\")"
   ]
  },
  {
   "cell_type": "code",
   "execution_count": null,
   "id": "82d2dc70",
   "metadata": {},
   "outputs": [],
   "source": [
    "# p3"
   ]
  },
  {
   "cell_type": "code",
   "execution_count": 16,
   "id": "314fe977",
   "metadata": {},
   "outputs": [
    {
     "data": {
      "text/plain": [
       "array([-3.50652527e+00, -1.23594299e+00, -1.07962991e+00, -1.06734745e+00,\n",
       "       -7.79814695e-01, -7.14030190e-01, -4.99408453e-01, -3.41464778e-01,\n",
       "       -1.36621565e-01, -4.37667187e-02,  3.15776467e-03,  1.58824818e-01,\n",
       "        3.00636641e-01,  6.44378272e-01,  7.13185806e-01,  9.00174736e-01,\n",
       "        9.89958427e-01,  1.21562467e+00,  1.24523258e+00,  1.76355086e+00,\n",
       "        1.81636297e+00,  1.86918127e+00,  1.90952497e+00,  3.20461613e+00,\n",
       "        3.73831132e+00])"
      ]
     },
     "execution_count": 16,
     "metadata": {},
     "output_type": "execute_result"
    }
   ],
   "source": [
    "n = 25\n",
    "x = scp.t.rvs(3, size=n)\n",
    "x = np.sort(x)\n",
    "x"
   ]
  },
  {
   "cell_type": "code",
   "execution_count": 9,
   "id": "c383c776",
   "metadata": {},
   "outputs": [],
   "source": [
    "def interquartile(data):\n",
    "    return (np.quantile(data, .75) - np.quantile(data, .25))/1.34 "
   ]
  },
  {
   "cell_type": "code",
   "execution_count": 18,
   "id": "f059fdcf",
   "metadata": {},
   "outputs": [
    {
     "name": "stdout",
     "output_type": "stream",
     "text": [
      "normal: (0.669192276164945, 1.934749562166152)\n",
      "percentile: (0.7860507844420452, 2.0093762697938264)\n",
      "pivotal: (0.5945655685372707, 1.8178910538890516)\n"
     ]
    }
   ],
   "source": [
    "trial_num = 10\n",
    "B = 1000\n",
    "norm_l = []\n",
    "norm_r = []\n",
    "piv_l = []\n",
    "piv_r = []\n",
    "perc_l = []\n",
    "perc_r = []\n",
    "\n",
    "alpha = 0.05\n",
    "\n",
    "T_hat = interquartile(x)\n",
    "z = scp.norm.ppf(1-alpha/2)\n",
    "\n",
    "for trial in range(trial_num):\n",
    "    T_boot = bootstrap(x, interquartile, B)\n",
    "    T_boot = np.sort(T_boot)\n",
    "    se = np.std(T_boot)\n",
    "    norm_l.append(T_hat-z*se)\n",
    "    norm_r.append(T_hat+z*se)\n",
    "    quant_hi = np.quantile(T_boot, 1-alpha/2)\n",
    "    quant_lo = np.quantile(T_boot, alpha/2)\n",
    "    perc_l.append(quant_lo)\n",
    "    perc_r.append(quant_hi)\n",
    "    piv_l.append(2*T_hat-quant_hi)\n",
    "    piv_r.append(2*T_hat-quant_lo)\n",
    "\n",
    "print(f\"normal: ({np.mean(norm_l)}, {np.mean(norm_r)})\")\n",
    "print(f\"percentile: ({np.mean(perc_l)}, {np.mean(perc_r)})\")\n",
    "print(f\"pivotal: ({np.mean(piv_l)}, {np.mean(piv_r)})\")"
   ]
  },
  {
   "cell_type": "code",
   "execution_count": null,
   "id": "310a8955",
   "metadata": {},
   "outputs": [],
   "source": [
    "#P6"
   ]
  },
  {
   "cell_type": "code",
   "execution_count": 18,
   "id": "df5b7194",
   "metadata": {},
   "outputs": [
    {
     "data": {
      "text/plain": [
       "array([2.46438377, 2.77457061, 2.88770699, 2.94632406, 2.95624371,\n",
       "       3.01809809, 3.11793434, 3.23068061, 3.24938145, 3.26986131,\n",
       "       3.45608804, 3.47583487, 3.47768715, 3.50242374, 3.58219869,\n",
       "       3.6529527 , 3.66906771, 3.83581105, 3.86995051, 3.97426546,\n",
       "       4.04577568, 4.04656494, 4.05410513, 4.11684496, 4.13404114,\n",
       "       4.16741049, 4.17653691, 4.18402523, 4.21389388, 4.26290201,\n",
       "       4.27480504, 4.30234433, 4.37873465, 4.3849575 , 4.44953339,\n",
       "       4.45711236, 4.49450251, 4.50181381, 4.53388593, 4.59056277,\n",
       "       4.59452773, 4.59556436, 4.62643696, 4.6269728 , 4.65633756,\n",
       "       4.66622822, 4.74401262, 4.77047273, 4.77051166, 4.78715148,\n",
       "       4.82638713, 4.89073778, 4.8967911 , 4.96434612, 4.96887397,\n",
       "       5.03071021, 5.03674093, 5.03837875, 5.07233991, 5.0937767 ,\n",
       "       5.13298143, 5.13756915, 5.16330527, 5.19408203, 5.19855889,\n",
       "       5.21597578, 5.28673018, 5.30132415, 5.30327384, 5.37673135,\n",
       "       5.39498934, 5.41515895, 5.45907601, 5.52134562, 5.60400826,\n",
       "       5.61226903, 5.66852222, 5.69267431, 5.76327091, 5.86055244,\n",
       "       5.89480464, 5.90490115, 5.96306507, 5.96629595, 6.0076619 ,\n",
       "       6.09844216, 6.11437714, 6.11940882, 6.23540908, 6.26675903,\n",
       "       6.2687681 , 6.28863849, 6.40664094, 6.46137963, 6.47162418,\n",
       "       6.58794116, 6.60587005, 6.74485645, 6.86083173, 6.97133764])"
      ]
     },
     "execution_count": 18,
     "metadata": {},
     "output_type": "execute_result"
    }
   ],
   "source": [
    "n = 100\n",
    "mu = 5\n",
    "xs = np.random.normal(mu, 1, n)\n",
    "xs = np.sort(xs)\n",
    "xs"
   ]
  },
  {
   "cell_type": "code",
   "execution_count": 19,
   "id": "df1f1708",
   "metadata": {},
   "outputs": [
    {
     "data": {
      "text/plain": [
       "125.68833202487"
      ]
     },
     "execution_count": 19,
     "metadata": {},
     "output_type": "execute_result"
    }
   ],
   "source": [
    "x_bar = np.mean(xs)\n",
    "th_hat = np.exp(x_bar)\n",
    "th_hat"
   ]
  },
  {
   "cell_type": "code",
   "execution_count": 23,
   "id": "6ffcc8d7",
   "metadata": {},
   "outputs": [],
   "source": [
    "def stats(data):\n",
    "    #x_bar = np.mean(data)\n",
    "    #return np.exp(x_bar)\n",
    "    return np.mean(data)"
   ]
  },
  {
   "cell_type": "code",
   "execution_count": 24,
   "id": "f6a8d7bd",
   "metadata": {},
   "outputs": [
    {
     "name": "stdout",
     "output_type": "stream",
     "text": [
      "normal: (4.62820477034456, 5.039405804257589)\n",
      "percentile: (4.629223315122962, 5.03829144616054)\n",
      "pivotal: (4.62931912844161, 5.038387259479186)\n"
     ]
    }
   ],
   "source": [
    "trial_num = 10\n",
    "B = 1000\n",
    "norm_l = []\n",
    "norm_r = []\n",
    "piv_l = []\n",
    "piv_r = []\n",
    "perc_l = []\n",
    "perc_r = []\n",
    "\n",
    "alpha = 0.05\n",
    "\n",
    "T_hat = stats(xs)\n",
    "z = scp.norm.ppf(1-alpha/2)\n",
    "T_boot = []\n",
    "\n",
    "for trial in range(trial_num):\n",
    "    T_boot = bootstrap(xs, stats, B)\n",
    "    T_boot = np.sort(T_boot)\n",
    "    se = np.std(T_boot)\n",
    "    norm_l.append(T_hat-z*se)\n",
    "    norm_r.append(T_hat+z*se)\n",
    "    quant_hi = np.quantile(T_boot, 1-alpha/2)\n",
    "    quant_lo = np.quantile(T_boot, alpha/2)\n",
    "    perc_l.append(quant_lo)\n",
    "    perc_r.append(quant_hi)\n",
    "    piv_l.append(2*T_hat-quant_hi)\n",
    "    piv_r.append(2*T_hat-quant_lo)\n",
    "\n",
    "print(f\"normal: ({np.mean(norm_l)}, {np.mean(norm_r)})\")\n",
    "print(f\"percentile: ({np.mean(perc_l)}, {np.mean(perc_r)})\")\n",
    "print(f\"pivotal: ({np.mean(piv_l)}, {np.mean(piv_r)})\")"
   ]
  },
  {
   "cell_type": "code",
   "execution_count": 28,
   "id": "cb834aae",
   "metadata": {},
   "outputs": [
    {
     "data": {
      "text/plain": [
       "148.4131591025766"
      ]
     },
     "execution_count": 28,
     "metadata": {},
     "output_type": "execute_result"
    }
   ],
   "source": [
    "np.exp(5)"
   ]
  },
  {
   "cell_type": "code",
   "execution_count": 26,
   "id": "852d141d",
   "metadata": {},
   "outputs": [
    {
     "data": {
      "image/png": "[encoded data removed]",
      "text/plain": [
       "<Figure size 640x480 with 2 Axes>"
      ]
     },
     "metadata": {},
     "output_type": "display_data"
    }
   ],
   "source": [
    "plt.subplot(1, 2, 1)\n",
    "n_bins = 40\n",
    "plt.hist(T_boot)\n",
    "plt.subplot(1, 2, 2)\n",
    "n_bins = 40\n",
    "plt.hist(xs, range=(0, 6))\n",
    "plt.show()"
   ]
  },
  {
   "cell_type": "code",
   "execution_count": 4,
   "id": "531ff959",
   "metadata": {},
   "outputs": [],
   "source": [
    "#p7"
   ]
  },
  {
   "cell_type": "code",
   "execution_count": 8,
   "id": "44205eb2",
   "metadata": {},
   "outputs": [
    {
     "data": {
      "text/plain": [
       "array([0.01660197, 0.02424852, 0.02438033, 0.04797218, 0.05568516,\n",
       "       0.07443055, 0.11287549, 0.12644025, 0.13856226, 0.14089842,\n",
       "       0.15020908, 0.15759981, 0.16037596, 0.23326215, 0.25414004,\n",
       "       0.26947541, 0.30076728, 0.31112587, 0.33925065, 0.36077145,\n",
       "       0.37654826, 0.41628663, 0.43759521, 0.43907183, 0.44013665,\n",
       "       0.47538446, 0.48778125, 0.55476817, 0.57705916, 0.58176047,\n",
       "       0.60829271, 0.6412889 , 0.65753606, 0.71073957, 0.75498732,\n",
       "       0.75587622, 0.75608388, 0.7569691 , 0.77892907, 0.80573263,\n",
       "       0.83469598, 0.83469813, 0.87122351, 0.87843002, 0.91312646,\n",
       "       0.91989896, 0.92786173, 0.93204917, 0.96004628, 0.99292099])"
      ]
     },
     "execution_count": 8,
     "metadata": {},
     "output_type": "execute_result"
    }
   ],
   "source": [
    "n = 50\n",
    "theta = 1\n",
    "xs = np.random.uniform(0, theta, n)\n",
    "xs = np.sort(xs)\n",
    "xs"
   ]
  },
  {
   "cell_type": "code",
   "execution_count": 7,
   "id": "aa0e0ef0",
   "metadata": {},
   "outputs": [
    {
     "data": {
      "image/png": "[encoded data removed]",
      "text/plain": [
       "<Figure size 640x480 with 1 Axes>"
      ]
     },
     "metadata": {},
     "output_type": "display_data"
    }
   ],
   "source": [
    "xvec = np.linspace(0, theta, 1000)\n",
    "pdf = xvec/theta\n",
    "pdf_hat = n*xvec**(n-1)/theta\n",
    "plt.plot(xvec, pdf, label=\"pdf\")\n",
    "plt.plot(xvec, pdf_hat, label=\"max estimator\")\n",
    "plt.legend(loc='best')\n",
    "plt.show()"
   ]
  },
  {
   "cell_type": "code",
   "execution_count": 10,
   "id": "08e721ef",
   "metadata": {},
   "outputs": [],
   "source": [
    "def stats(data):\n",
    "    return np.max(data)"
   ]
  },
  {
   "cell_type": "code",
   "execution_count": 11,
   "id": "b8463eec",
   "metadata": {},
   "outputs": [
    {
     "name": "stdout",
     "output_type": "stream",
     "text": [
      "normal: (0.9477056068007453, 1.038136378228426)\n",
      "percentile: (0.9278617339497778, 0.9929209925145857)\n",
      "pivotal: (0.9929209925145857, 1.0579802510793932)\n"
     ]
    }
   ],
   "source": [
    "trial_num = 10\n",
    "B = 1000\n",
    "norm_l = []\n",
    "norm_r = []\n",
    "piv_l = []\n",
    "piv_r = []\n",
    "perc_l = []\n",
    "perc_r = []\n",
    "\n",
    "alpha = 0.05\n",
    "\n",
    "T_hat = stats(xs)\n",
    "z = scp.norm.ppf(1-alpha/2)\n",
    "T_boot = []\n",
    "\n",
    "for trial in range(trial_num):\n",
    "    T_boot = bootstrap(xs, stats, B)\n",
    "    T_boot = np.sort(T_boot)\n",
    "    se = np.std(T_boot)\n",
    "    norm_l.append(T_hat-z*se)\n",
    "    norm_r.append(T_hat+z*se)\n",
    "    quant_hi = np.quantile(T_boot, 1-alpha/2)\n",
    "    quant_lo = np.quantile(T_boot, alpha/2)\n",
    "    perc_l.append(quant_lo)\n",
    "    perc_r.append(quant_hi)\n",
    "    piv_l.append(2*T_hat-quant_hi)\n",
    "    piv_r.append(2*T_hat-quant_lo)\n",
    "\n",
    "print(f\"normal: ({np.mean(norm_l)}, {np.mean(norm_r)})\")\n",
    "print(f\"percentile: ({np.mean(perc_l)}, {np.mean(perc_r)})\")\n",
    "print(f\"pivotal: ({np.mean(piv_l)}, {np.mean(piv_r)})\")"
   ]
  },
  {
   "cell_type": "code",
   "execution_count": 12,
   "id": "258c43c7",
   "metadata": {},
   "outputs": [
    {
     "data": {
      "image/png": "[encoded data removed]",
      "text/plain": [
       "<Figure size 640x480 with 1 Axes>"
      ]
     },
     "metadata": {},
     "output_type": "display_data"
    }
   ],
   "source": [
    "plt.hist(T_boot)\n",
    "plt.title(\"boostrap\")\n",
    "plt.show()"
   ]
  },
  {
   "cell_type": "code",
   "execution_count": 17,
   "id": "b8f28490",
   "metadata": {},
   "outputs": [
    {
     "data": {
      "text/plain": [
       "0.6321205588285577"
      ]
     },
     "execution_count": 17,
     "metadata": {},
     "output_type": "execute_result"
    }
   ],
   "source": []
  },
  {
   "cell_type": "code",
   "execution_count": 15,
   "id": "776b3a80",
   "metadata": {},
   "outputs": [
    {
     "data": {
      "text/plain": [
       "0.36787944117144233"
      ]
     },
     "execution_count": 15,
     "metadata": {},
     "output_type": "execute_result"
    }
   ],
   "source": []
  },
  {
   "cell_type": "code",
   "execution_count": null,
   "id": "1c1024a0",
   "metadata": {},
   "outputs": [],
   "source": []
  }
 ],
 "metadata": {
  "kernelspec": {
   "display_name": "Python 3 (ipykernel)",
   "language": "python",
   "name": "python3"
  },
  "language_info": {
   "codemirror_mode": {
    "name": "ipython",
    "version": 3
   },
   "file_extension": ".py",
   "mimetype": "text/x-python",
   "name": "python",
   "nbconvert_exporter": "python",
   "pygments_lexer": "ipython3",
   "version": "3.10.5"
  }
 },
 "nbformat": 4,
 "nbformat_minor": 5
}
