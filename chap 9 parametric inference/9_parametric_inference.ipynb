{
 "cells": [
  {
   "cell_type": "code",
   "execution_count": 1,
   "id": "be584a03",
   "metadata": {},
   "outputs": [],
   "source": [
    "# Chapter 9\n",
    "import numpy as np\n",
    "import matplotlib.pyplot as plt\n",
    "import pandas as pd\n",
    "import scipy.stats as scp"
   ]
  },
  {
   "cell_type": "code",
   "execution_count": null,
   "id": "b20edc74",
   "metadata": {},
   "outputs": [],
   "source": [
    "# p2"
   ]
  },
  {
   "cell_type": "code",
   "execution_count": 11,
   "id": "71b6066f",
   "metadata": {},
   "outputs": [],
   "source": [
    "a = 1\n",
    "b = 3\n",
    "n = 100\n",
    "mu = (a+b)/2"
   ]
  },
  {
   "cell_type": "code",
   "execution_count": 12,
   "id": "46aba3ca",
   "metadata": {},
   "outputs": [
    {
     "data": {
      "text/plain": [
       "0.0033333333333333335"
      ]
     },
     "execution_count": 12,
     "metadata": {},
     "output_type": "execute_result"
    }
   ],
   "source": [
    "(b-a)**2/(12*n)"
   ]
  },
  {
   "cell_type": "code",
   "execution_count": 13,
   "id": "adc8c5aa",
   "metadata": {},
   "outputs": [
    {
     "data": {
      "text/plain": [
       "0.00013688127211766425"
      ]
     },
     "execution_count": 13,
     "metadata": {},
     "output_type": "execute_result"
    }
   ],
   "source": [
    "trials = 100\n",
    "\n",
    "mse = 0\n",
    "\n",
    "for trial in range(trials):\n",
    "    xs = np.random.uniform(a, b, n)\n",
    "    xs = np.sort(xs)\n",
    "    mu_hat = (xs[-1] + xs[0])/2;\n",
    "    mse += (mu_hat-mu)**2\n",
    "mse = mse/trial\n",
    "mse\n"
   ]
  },
  {
   "cell_type": "code",
   "execution_count": null,
   "id": "d5c25e37",
   "metadata": {},
   "outputs": [],
   "source": [
    "#p3"
   ]
  },
  {
   "cell_type": "code",
   "execution_count": 2,
   "id": "4a89ce47",
   "metadata": {},
   "outputs": [
    {
     "data": {
      "text/plain": [
       "array([-2.5 , -1.03, -0.68, -0.61, -0.07, -0.01,  0.02,  0.17,  0.3 ,\n",
       "        0.39,  0.42,  0.76,  1.03,  1.52,  1.54,  1.76,  1.88,  2.28,\n",
       "        2.33,  3.18,  3.23,  4.  ,  4.43,  5.43])"
      ]
     },
     "execution_count": 2,
     "metadata": {},
     "output_type": "execute_result"
    }
   ],
   "source": [
    "xs = [3.23, -2.5, 1.88, -0.68, 4.43, 0.17, 1.03, -0.07, -0.01, 0.76, 1.76, 3.18, 0.33\n",
    "     -0.31, 0.3, -0.61, 1.52, 5.43, 1.54, 2.28, 0.42, 2.33, -1.03, 4.0, 0.39]\n",
    "#xs = np.random.normal(1, 2, 1000)\n",
    "xs = np.sort(xs)\n",
    "n = len(xs)\n",
    "xs"
   ]
  },
  {
   "cell_type": "code",
   "execution_count": null,
   "id": "84576ac2",
   "metadata": {},
   "outputs": [],
   "source": [
    "#delta method"
   ]
  },
  {
   "cell_type": "code",
   "execution_count": 3,
   "id": "721f77f2",
   "metadata": {},
   "outputs": [
    {
     "data": {
      "text/plain": [
       "4.8390082151936635"
      ]
     },
     "execution_count": 3,
     "metadata": {},
     "output_type": "execute_result"
    }
   ],
   "source": [
    "mu_hat = np.mean(xs)\n",
    "sigma_hat = np.std(xs)\n",
    "alpha = 0.05\n",
    "z = scp.norm.ppf(1-alpha/2)\n",
    "tau_hat = mu_hat+z*sigma_hat\n",
    "tau_hat"
   ]
  },
  {
   "cell_type": "code",
   "execution_count": 8,
   "id": "ad820f50",
   "metadata": {},
   "outputs": [
    {
     "name": "stdout",
     "output_type": "stream",
     "text": [
      "standard error: 0.6491416441208686\n",
      "95% confidence interval for 95 percentile: (3.566713971851644, 6.1113024585356825)\n"
     ]
    }
   ],
   "source": [
    "se_hat = (3*sigma_hat**2/n)**0.5\n",
    "print(f\"standard error: {se_hat}\")\n",
    "print(f'95% confidence interval for 95 percentile: ({tau_hat-z*se_hat}, {tau_hat+z*se_hat})')"
   ]
  },
  {
   "cell_type": "code",
   "execution_count": 5,
   "id": "7b582afd",
   "metadata": {},
   "outputs": [],
   "source": [
    "def bootstrap(data, stats, B):\n",
    "    n = len(data)\n",
    "    Tboot = []\n",
    "    for boot in range(B):\n",
    "        sample = np.random.choice(data, n, replace=True)\n",
    "        Tboot.append(stats(sample))\n",
    "    return Tboot"
   ]
  },
  {
   "cell_type": "code",
   "execution_count": 7,
   "id": "17034945",
   "metadata": {},
   "outputs": [],
   "source": [
    "def centile_95(sample):\n",
    "    return np.percentile(sample, 95)"
   ]
  },
  {
   "cell_type": "code",
   "execution_count": 12,
   "id": "edf1d4fe",
   "metadata": {},
   "outputs": [
    {
     "name": "stdout",
     "output_type": "stream",
     "text": [
      "standard error: 0.7926701187365077\n"
     ]
    }
   ],
   "source": [
    "B = 1000\n",
    "Tboot = bootstrap(xs, centile_95, B)\n",
    "se_hat_boot = np.std(Tboot)\n",
    "print(f\"standard error: {se_hat_boot}\")"
   ]
  },
  {
   "cell_type": "code",
   "execution_count": null,
   "id": "ba8fa54e",
   "metadata": {},
   "outputs": [],
   "source": [
    "#p7"
   ]
  },
  {
   "cell_type": "code",
   "execution_count": 17,
   "id": "92fd6d5f",
   "metadata": {},
   "outputs": [],
   "source": [
    "n1 = 200\n",
    "n2 = 200\n",
    "xs = [160, 148]\n",
    "p1 = xs[0]/n1\n",
    "p2 = xs[1]/n2"
   ]
  },
  {
   "cell_type": "code",
   "execution_count": 19,
   "id": "13dd0395",
   "metadata": {},
   "outputs": [
    {
     "data": {
      "text/plain": [
       "0.06000000000000005"
      ]
     },
     "execution_count": 19,
     "metadata": {},
     "output_type": "execute_result"
    }
   ],
   "source": [
    "phi = p1 - p2\n",
    "phi"
   ]
  },
  {
   "cell_type": "code",
   "execution_count": 26,
   "id": "348bd555",
   "metadata": {},
   "outputs": [
    {
     "name": "stdout",
     "output_type": "stream",
     "text": [
      "se: 0.04197618372363071\n",
      "by delta methode: ((-0.009044678043395274, 0.12904467804339537))\n"
     ]
    }
   ],
   "source": [
    "alpha = 0.1\n",
    "z = scp.norm.ppf(1-alpha/2)\n",
    "se = (p1*(1-p1)/n1 + p2*(1-p2)/n2) ** 0.5\n",
    "print(f\"se: {se}\")\n",
    "print(f\"by delta methode: ({phi-z*se, phi+z*se})\")"
   ]
  },
  {
   "cell_type": "code",
   "execution_count": 30,
   "id": "3b5703d5",
   "metadata": {},
   "outputs": [
    {
     "name": "stdout",
     "output_type": "stream",
     "text": [
      "se boot: 0.043405615996089726\n",
      "by bootstrap: (-0.005249999999999985, 0.135)\n"
     ]
    }
   ],
   "source": [
    "B = 1000\n",
    "phi_boot = []\n",
    "x1 = np.random.binomial(n1, xs[0]/n1, B)\n",
    "x2 = np.random.binomial(n2, xs[1]/n2, B)\n",
    "phi_boot = x1/n1 - x2/n2\n",
    "se_boot = np.std(phi_boot)\n",
    "print(f\"se boot: {se_boot}\")\n",
    "print(f\"by bootstrap: ({np.quantile(phi_boot, alpha/2)}, {np.quantile(phi_boot, 1-alpha/2)})\")"
   ]
  },
  {
   "cell_type": "code",
   "execution_count": null,
   "id": "399dcdf7",
   "metadata": {},
   "outputs": [],
   "source": [
    "#p9"
   ]
  },
  {
   "cell_type": "code",
   "execution_count": 15,
   "id": "cb68b465",
   "metadata": {},
   "outputs": [
    {
     "data": {
      "text/plain": [
       "148.4131591025766"
      ]
     },
     "execution_count": 15,
     "metadata": {},
     "output_type": "execute_result"
    }
   ],
   "source": [
    "np.exp(5)"
   ]
  },
  {
   "cell_type": "code",
   "execution_count": 83,
   "id": "4e9e23e5",
   "metadata": {},
   "outputs": [
    {
     "data": {
      "text/plain": [
       "array([1.55308013, 1.86322058, 2.18109269, 2.28249652, 2.3312408 ,\n",
       "       2.41624318, 2.44352664, 2.48272406, 2.49219715, 2.63235542,\n",
       "       2.702485  , 2.76478647, 2.80988148, 2.81631523, 2.81867944,\n",
       "       2.87332085, 2.90835485, 2.94783098, 2.96159724, 2.96552899,\n",
       "       3.03376921, 3.05633397, 3.06979176, 3.08320997, 3.09051681,\n",
       "       3.09597852, 3.1103028 , 3.14354821, 3.1458997 , 3.14614188,\n",
       "       3.16104737, 3.16711525, 3.16859069, 3.17042788, 3.17127117,\n",
       "       3.17689858, 3.17937517, 3.18252797, 3.18513516, 3.19095278,\n",
       "       3.2047086 , 3.22344925, 3.24149602, 3.25185476, 3.25874409,\n",
       "       3.26820245, 3.28782696, 3.3059209 , 3.31951501, 3.32272271,\n",
       "       3.32387024, 3.33343875, 3.36564083, 3.37289873, 3.37824285,\n",
       "       3.38507771, 3.38586703, 3.40139685, 3.4051997 , 3.41292751,\n",
       "       3.41551527, 3.42653086, 3.42904113, 3.43936212, 3.44321346,\n",
       "       3.45207955, 3.47069446, 3.48308749, 3.48746023, 3.5017527 ,\n",
       "       3.5128518 , 3.5175275 , 3.51985902, 3.52201482, 3.52511957,\n",
       "       3.52535392, 3.53062419, 3.53121217, 3.53709219, 3.54050394,\n",
       "       3.54856097, 3.55483259, 3.56198984, 3.56281722, 3.569464  ,\n",
       "       3.57300664, 3.59201071, 3.596217  , 3.60363906, 3.60422298,\n",
       "       3.60606833, 3.60653845, 3.60755878, 3.61676017, 3.63074701,\n",
       "       3.63382651, 3.63568562, 3.64281518, 3.64767071, 3.6498314 ,\n",
       "       3.65312922, 3.65348975, 3.65357756, 3.65500112, 3.66665358,\n",
       "       3.66717158, 3.6674365 , 3.67446892, 3.67706349, 3.68710055,\n",
       "       3.69501083, 3.69502117, 3.69579712, 3.69843659, 3.69952927,\n",
       "       3.70129093, 3.70331207, 3.71187526, 3.71188604, 3.71203017,\n",
       "       3.71323919, 3.72321397, 3.72840897, 3.73331968, 3.73702071,\n",
       "       3.73781558, 3.73958294, 3.74129359, 3.74290432, 3.7549103 ,\n",
       "       3.7556778 , 3.77467016, 3.78747403, 3.78812584, 3.7897463 ,\n",
       "       3.79623274, 3.80922897, 3.8193304 , 3.82657766, 3.82920406,\n",
       "       3.84487024, 3.84806923, 3.85307854, 3.8600908 , 3.86027235,\n",
       "       3.86114896, 3.86651122, 3.86684043, 3.86964983, 3.87035495,\n",
       "       3.87045414, 3.87233905, 3.87796888, 3.87972639, 3.88080379,\n",
       "       3.88928309, 3.90034008, 3.90578068, 3.90822133, 3.90935422,\n",
       "       3.91117839, 3.92095097, 3.92945798, 3.93097156, 3.93475329,\n",
       "       3.94933814, 3.95149919, 3.95373243, 3.95783718, 3.96074209,\n",
       "       3.97040436, 3.97097296, 3.98572079, 3.99297872, 3.99378538,\n",
       "       3.99495935, 3.99505837, 3.9988083 , 4.00102363, 4.00131838,\n",
       "       4.00520754, 4.00552612, 4.00942569, 4.01114753, 4.01465151,\n",
       "       4.0158265 , 4.01993936, 4.02410316, 4.03158425, 4.03362448,\n",
       "       4.0367484 , 4.03789245, 4.04377951, 4.04503472, 4.04579948,\n",
       "       4.05068121, 4.05917424, 4.06009185, 4.06160693, 4.06199236,\n",
       "       4.06509494, 4.06721557, 4.07020558, 4.08567947, 4.10024229,\n",
       "       4.10098061, 4.10177258, 4.10334059, 4.10459431, 4.10468139,\n",
       "       4.10549195, 4.10732551, 4.11032529, 4.11138516, 4.11424477,\n",
       "       4.11620885, 4.11895248, 4.12022289, 4.12860444, 4.13023606,\n",
       "       4.13335608, 4.13396944, 4.13820424, 4.15026251, 4.15358663,\n",
       "       4.15393111, 4.15586186, 4.15696149, 4.16071275, 4.16820573,\n",
       "       4.16945668, 4.17224182, 4.17400635, 4.17618493, 4.17821704,\n",
       "       4.18607085, 4.18671569, 4.1896688 , 4.19008321, 4.19467893,\n",
       "       4.19809202, 4.20698905, 4.21173884, 4.22474493, 4.2259741 ,\n",
       "       4.22920023, 4.23355882, 4.2364018 , 4.24392257, 4.2441156 ,\n",
       "       4.2479844 , 4.25629169, 4.26740591, 4.26991524, 4.27069494,\n",
       "       4.27374056, 4.27878757, 4.28066771, 4.28172447, 4.28412868,\n",
       "       4.29695861, 4.29736739, 4.30128522, 4.30174513, 4.31106172,\n",
       "       4.31828176, 4.31998124, 4.32850115, 4.34207349, 4.34235491,\n",
       "       4.3498275 , 4.35787776, 4.35860431, 4.36086433, 4.36195048,\n",
       "       4.36542306, 4.37453524, 4.37572068, 4.37639156, 4.38031672,\n",
       "       4.38123482, 4.38750488, 4.39063351, 4.39135235, 4.39154979,\n",
       "       4.39300328, 4.39447477, 4.40373429, 4.40572715, 4.40838676,\n",
       "       4.40937378, 4.41824194, 4.42197218, 4.4234371 , 4.42597882,\n",
       "       4.42828234, 4.42850648, 4.42912337, 4.43481137, 4.43562013,\n",
       "       4.43761298, 4.44048784, 4.44271154, 4.44305656, 4.44350556,\n",
       "       4.44668078, 4.44695959, 4.44774279, 4.4497181 , 4.45190164,\n",
       "       4.45234551, 4.45383216, 4.45392958, 4.45657318, 4.45805087,\n",
       "       4.4620661 , 4.46384951, 4.46897383, 4.46898793, 4.46982212,\n",
       "       4.47325928, 4.47360257, 4.47540965, 4.47680579, 4.48303143,\n",
       "       4.48402952, 4.48624355, 4.4871269 , 4.48886404, 4.49019582,\n",
       "       4.49306162, 4.49354931, 4.5035203 , 4.50990529, 4.51162636,\n",
       "       4.51564436, 4.52211924, 4.52351336, 4.52840402, 4.5289935 ,\n",
       "       4.5312245 , 4.53553326, 4.53657045, 4.53784144, 4.54201421,\n",
       "       4.54601669, 4.55223085, 4.55366643, 4.55380664, 4.55590863,\n",
       "       4.55669496, 4.55705589, 4.55746994, 4.56067289, 4.56495945,\n",
       "       4.58121322, 4.585323  , 4.58532413, 4.58623609, 4.58975323,\n",
       "       4.5900961 , 4.59534714, 4.59763116, 4.6117353 , 4.61253226,\n",
       "       4.61578757, 4.61635689, 4.61673253, 4.61959831, 4.6221743 ,\n",
       "       4.6252355 , 4.62714216, 4.62743626, 4.62858061, 4.63396194,\n",
       "       4.63406501, 4.6343415 , 4.6357511 , 4.63633227, 4.63637113,\n",
       "       4.64083512, 4.64201505, 4.64390021, 4.6517513 , 4.65295153,\n",
       "       4.6582981 , 4.65868848, 4.66587372, 4.66982361, 4.67037428,\n",
       "       4.68473995, 4.68526578, 4.6872171 , 4.68942877, 4.68959786,\n",
       "       4.68963931, 4.6913384 , 4.69411051, 4.70058509, 4.70073019,\n",
       "       4.70118306, 4.70181623, 4.70325795, 4.70711288, 4.70926145,\n",
       "       4.71088831, 4.71431147, 4.71690848, 4.71727905, 4.71909095,\n",
       "       4.72078562, 4.72116276, 4.72221929, 4.73590372, 4.73739338,\n",
       "       4.74089397, 4.74530388, 4.74913799, 4.75304716, 4.75599425,\n",
       "       4.75698392, 4.76061926, 4.76492476, 4.7654048 , 4.76882698,\n",
       "       4.77781867, 4.78146372, 4.78365029, 4.78515525, 4.78821654,\n",
       "       4.788599  , 4.78976093, 4.79179457, 4.79468303, 4.79709433,\n",
       "       4.79716872, 4.8023519 , 4.80363987, 4.8039179 , 4.80502344,\n",
       "       4.80579386, 4.80654502, 4.80747169, 4.80934097, 4.81000928,\n",
       "       4.81039515, 4.81405401, 4.81543854, 4.81956179, 4.82039275,\n",
       "       4.82042016, 4.82042695, 4.82252971, 4.8233842 , 4.82356488,\n",
       "       4.82428182, 4.82529404, 4.82562818, 4.82835612, 4.83009925,\n",
       "       4.83366741, 4.83406998, 4.83421104, 4.83506544, 4.8437926 ,\n",
       "       4.84384326, 4.84576144, 4.84714215, 4.85381068, 4.85516205,\n",
       "       4.85552819, 4.86678244, 4.86680055, 4.86853352, 4.87029728,\n",
       "       4.8737268 , 4.87418746, 4.87453167, 4.87571929, 4.87700767,\n",
       "       4.88538417, 4.88639605, 4.88873485, 4.89045587, 4.89270787,\n",
       "       4.89858704, 4.89896963, 4.90134664, 4.90174185, 4.9027851 ,\n",
       "       4.90308704, 4.90830454, 4.90977744, 4.91395385, 4.91600685,\n",
       "       4.91708498, 4.91779293, 4.92099572, 4.92460582, 4.92943187,\n",
       "       4.93021518, 4.93026109, 4.93445704, 4.93474706, 4.93546222,\n",
       "       4.93584656, 4.9382146 , 4.94118685, 4.94125061, 4.94142031,\n",
       "       4.9466967 , 4.94730376, 4.94870123, 4.95269298, 4.95429294,\n",
       "       4.95523516, 4.95569119, 4.95835154, 4.95965315, 4.96133904,\n",
       "       4.96243311, 4.96283351, 4.9637839 , 4.96386021, 4.96626255,\n",
       "       4.96670139, 4.96696091, 4.97544819, 4.97960309, 4.98178783,\n",
       "       4.98308301, 4.98938009, 5.00414331, 5.00557521, 5.00565187,\n",
       "       5.01197481, 5.01345145, 5.01383018, 5.01758714, 5.01761346,\n",
       "       5.02304157, 5.02339197, 5.02417122, 5.02759444, 5.03381737,\n",
       "       5.03845869, 5.0391322 , 5.03934173, 5.03951184, 5.03977407,\n",
       "       5.04325329, 5.04652984, 5.0492859 , 5.05002558, 5.0508549 ,\n",
       "       5.05446028, 5.05636828, 5.06208634, 5.06306895, 5.06510941,\n",
       "       5.06759336, 5.07136629, 5.07139397, 5.07220842, 5.07470798,\n",
       "       5.07482573, 5.07631956, 5.07636676, 5.07978822, 5.08034054,\n",
       "       5.08388373, 5.0844692 , 5.08582462, 5.08865307, 5.08947524,\n",
       "       5.08972063, 5.09081675, 5.09913077, 5.10080085, 5.10505232,\n",
       "       5.10510436, 5.10580937, 5.10985004, 5.11021233, 5.11172146,\n",
       "       5.11326772, 5.11336426, 5.11652854, 5.11659785, 5.11723563,\n",
       "       5.11883668, 5.12707276, 5.12948918, 5.13221135, 5.13241562,\n",
       "       5.1342959 , 5.1358203 , 5.13771086, 5.14294438, 5.14652402,\n",
       "       5.14857346, 5.1496554 , 5.15306308, 5.15909249, 5.15953167,\n",
       "       5.16591496, 5.1748001 , 5.17741418, 5.17783578, 5.1815031 ,\n",
       "       5.18282389, 5.19238992, 5.19803025, 5.19856615, 5.20124052,\n",
       "       5.20235505, 5.20583708, 5.21075798, 5.21195939, 5.21484619,\n",
       "       5.21614925, 5.21726084, 5.21780947, 5.22111658, 5.22295161,\n",
       "       5.22598129, 5.23158344, 5.23474781, 5.23780597, 5.23945958,\n",
       "       5.23961484, 5.24097703, 5.24189696, 5.24706153, 5.25256009,\n",
       "       5.25845372, 5.26055735, 5.26348327, 5.26472794, 5.26612906,\n",
       "       5.26879544, 5.27767231, 5.27943396, 5.27989436, 5.28587963,\n",
       "       5.2897086 , 5.29477356, 5.29844457, 5.30050399, 5.30258118,\n",
       "       5.30890249, 5.30902947, 5.31202092, 5.31415639, 5.32263585,\n",
       "       5.32505265, 5.32578313, 5.32824124, 5.33047236, 5.33166356,\n",
       "       5.33328015, 5.34215823, 5.34434947, 5.34486233, 5.3450415 ,\n",
       "       5.34548914, 5.34917613, 5.35016656, 5.35539364, 5.35793658,\n",
       "       5.36209492, 5.36672889, 5.36680715, 5.36898253, 5.37062445,\n",
       "       5.37311757, 5.37344915, 5.37576892, 5.37775211, 5.38245827,\n",
       "       5.38407183, 5.38474849, 5.38479522, 5.39327393, 5.39980029,\n",
       "       5.40830563, 5.40933689, 5.40999151, 5.42434864, 5.43059773,\n",
       "       5.4307875 , 5.43373009, 5.43834784, 5.44071954, 5.4407954 ,\n",
       "       5.44089115, 5.45045153, 5.45087999, 5.45227205, 5.45528453,\n",
       "       5.45700255, 5.46047093, 5.46143455, 5.46526985, 5.46830038,\n",
       "       5.46953473, 5.47001458, 5.47539299, 5.48692818, 5.48991454,\n",
       "       5.49295739, 5.49448601, 5.49715573, 5.49898195, 5.50047799,\n",
       "       5.50298119, 5.50321447, 5.50668736, 5.51381733, 5.51833773,\n",
       "       5.52177817, 5.524685  , 5.52562766, 5.52887852, 5.53200846,\n",
       "       5.5333347 , 5.53421468, 5.53807806, 5.5400639 , 5.54467016,\n",
       "       5.54733535, 5.54745074, 5.55002305, 5.55154134, 5.55306066,\n",
       "       5.55683846, 5.55761475, 5.56187171, 5.56418129, 5.56622984,\n",
       "       5.56793173, 5.569467  , 5.5719622 , 5.57538935, 5.57540958,\n",
       "       5.58321491, 5.59785385, 5.60022322, 5.61037231, 5.61219555,\n",
       "       5.61267486, 5.61833656, 5.62396319, 5.62495055, 5.62846073,\n",
       "       5.63636495, 5.63815081, 5.6389707 , 5.63958216, 5.65001799,\n",
       "       5.65626313, 5.65779244, 5.66052082, 5.66773721, 5.66953509,\n",
       "       5.67308051, 5.67741431, 5.68166912, 5.68408683, 5.68594494,\n",
       "       5.68796639, 5.6900472 , 5.69198698, 5.69904318, 5.70501938,\n",
       "       5.70551456, 5.70632899, 5.71249734, 5.71290362, 5.71318767,\n",
       "       5.7167925 , 5.71769591, 5.72726591, 5.72757981, 5.73755804,\n",
       "       5.74258716, 5.74560453, 5.74929572, 5.75445069, 5.75679147,\n",
       "       5.7635727 , 5.76476111, 5.7648215 , 5.76602697, 5.76703803,\n",
       "       5.77351454, 5.77705906, 5.78013412, 5.79717095, 5.80419761,\n",
       "       5.80853894, 5.81422125, 5.81508101, 5.81756692, 5.82602437,\n",
       "       5.83410071, 5.83474086, 5.83487982, 5.84322197, 5.8532414 ,\n",
       "       5.85529181, 5.85957405, 5.86462847, 5.87063742, 5.87911551,\n",
       "       5.88782795, 5.89127384, 5.89342243, 5.89361632, 5.89682853,\n",
       "       5.90368491, 5.90497453, 5.90629473, 5.90794281, 5.90867911,\n",
       "       5.92141215, 5.93003036, 5.93115754, 5.9368578 , 5.93899105,\n",
       "       5.94230452, 5.94746961, 5.95548011, 5.96790688, 5.97597011,\n",
       "       5.97933325, 5.98432832, 5.98966487, 5.99628704, 6.00172028,\n",
       "       6.00749885, 6.00793515, 6.01713613, 6.01909443, 6.02348365,\n",
       "       6.03314244, 6.03820728, 6.04552167, 6.0463212 , 6.04698385,\n",
       "       6.04827841, 6.05045473, 6.05173179, 6.05780924, 6.06602053,\n",
       "       6.07420428, 6.0742433 , 6.07712174, 6.08311958, 6.08576686,\n",
       "       6.08699575, 6.09269537, 6.09797759, 6.10511019, 6.10879601,\n",
       "       6.11271683, 6.11288546, 6.1140539 , 6.11556541, 6.1210366 ,\n",
       "       6.12494454, 6.12657592, 6.12780806, 6.12833608, 6.13121813,\n",
       "       6.13306493, 6.14505505, 6.14948538, 6.15809873, 6.16040894,\n",
       "       6.16295744, 6.18116363, 6.18362382, 6.18462908, 6.19497674,\n",
       "       6.20870262, 6.20878513, 6.21361472, 6.2228981 , 6.23124918,\n",
       "       6.23808261, 6.23980969, 6.24202054, 6.24434244, 6.25914285,\n",
       "       6.25983031, 6.25984615, 6.26006022, 6.26584762, 6.26630851,\n",
       "       6.26926589, 6.27630091, 6.30748508, 6.31661091, 6.31904951,\n",
       "       6.34030526, 6.34132105, 6.35415247, 6.3581572 , 6.37322193,\n",
       "       6.37631024, 6.3793167 , 6.38170185, 6.38419626, 6.38468141,\n",
       "       6.38617167, 6.38920686, 6.42574963, 6.42974827, 6.43113466,\n",
       "       6.43338132, 6.43690901, 6.4572359 , 6.46441734, 6.46743815,\n",
       "       6.47078383, 6.50391253, 6.50593557, 6.50739504, 6.50742587,\n",
       "       6.52028481, 6.53077509, 6.53808487, 6.54484346, 6.55434214,\n",
       "       6.55617538, 6.57537365, 6.58004506, 6.58110775, 6.58706234,\n",
       "       6.58782076, 6.58853421, 6.59122464, 6.59233914, 6.59854162,\n",
       "       6.60587266, 6.62538477, 6.63328233, 6.64039609, 6.64239726,\n",
       "       6.64264051, 6.66301749, 6.66767604, 6.67363729, 6.67889745,\n",
       "       6.70148385, 6.70179611, 6.70690371, 6.71775476, 6.72720006,\n",
       "       6.73034252, 6.75867112, 6.76348735, 6.77419243, 6.78229387,\n",
       "       6.78792896, 6.81507304, 6.81847851, 6.82164831, 6.8339661 ,\n",
       "       6.85474184, 6.8689787 , 6.90289868, 6.91084517, 6.92138742,\n",
       "       6.93865823, 6.93935401, 6.94029868, 6.96007971, 7.030755  ,\n",
       "       7.08466358, 7.09342445, 7.09942922, 7.10121822, 7.11781197,\n",
       "       7.19832813, 7.22861333, 7.27644697, 7.33952064, 7.34801132,\n",
       "       7.34974977, 7.36766393, 7.38949173, 7.41407656, 7.48140115,\n",
       "       7.48905069, 7.62846857, 7.75491019, 7.86591368, 7.92445424])"
      ]
     },
     "execution_count": 83,
     "metadata": {},
     "output_type": "execute_result"
    }
   ],
   "source": [
    "mu = 5\n",
    "n = 1000\n",
    "xs = np.random.normal(mu, 1, n)\n",
    "xs = np.sort(xs)\n",
    "xs"
   ]
  },
  {
   "cell_type": "code",
   "execution_count": 84,
   "id": "0228e081",
   "metadata": {},
   "outputs": [
    {
     "name": "stdout",
     "output_type": "stream",
     "text": [
      "mu_hat: 4.946679168852044\n",
      "delta: (137.7057517241058, 143.7080948280499)\n"
     ]
    }
   ],
   "source": [
    "mu_hat = np.mean(xs)\n",
    "theta = np.exp(mu_hat)\n",
    "se_delt = theta/(n**0.5)\n",
    "alpha = 0.5\n",
    "z = scp.norm.ppf(1-alpha/2);\n",
    "print(f\"mu_hat: {mu_hat}\")\n",
    "print(f\"delta: ({theta-z*se_delt}, {theta+z*se_delt})\")\n",
    "delt_distr = np.random.normal(theta, se_delt, n)"
   ]
  },
  {
   "cell_type": "code",
   "execution_count": 6,
   "id": "97986884",
   "metadata": {},
   "outputs": [],
   "source": [
    "def bootstrap(data, stats, B):\n",
    "    n = len(data)\n",
    "    Tboot = []\n",
    "    for boot in range(B):\n",
    "        sample = np.random.choice(data, n, replace=True)\n",
    "        Tboot.append(stats(sample))\n",
    "    return Tboot"
   ]
  },
  {
   "cell_type": "code",
   "execution_count": 7,
   "id": "81c0a518",
   "metadata": {},
   "outputs": [],
   "source": [
    "def eval_exp_mu(data):\n",
    "    mu = np.mean(data)\n",
    "    return np.exp(mu)"
   ]
  },
  {
   "cell_type": "code",
   "execution_count": 85,
   "id": "2cf84cb2",
   "metadata": {},
   "outputs": [
    {
     "name": "stdout",
     "output_type": "stream",
     "text": [
      "nonpara bootstrap: (137.9534934144708, 143.6652578547555)\n"
     ]
    }
   ],
   "source": [
    "B = 1000\n",
    "TbootA = bootstrap(xs, eval_exp_mu, B)\n",
    "TbootA = np.sort(TbootA)\n",
    "print(f\"nonpara bootstrap: ({np.percentile(TbootA, 100*alpha/2)}, {np.percentile(TbootA, 100*(1-alpha/2))})\")\n"
   ]
  },
  {
   "cell_type": "code",
   "execution_count": 86,
   "id": "ba502aae",
   "metadata": {},
   "outputs": [
    {
     "name": "stdout",
     "output_type": "stream",
     "text": [
      "para bootstrap: (137.55987330533694, 143.81454539926324)\n"
     ]
    }
   ],
   "source": [
    "TbootB = []\n",
    "for boot in range(B):\n",
    "    sample = np.random.normal(mu_hat, 1, n)\n",
    "    TbootB.append(eval_exp_mu(sample))\n",
    "TbootB = np.sort(TbootB)\n",
    "print(f\"para bootstrap: ({np.percentile(TbootB, 100*alpha/2)}, {np.percentile(TbootB, 100*(1-alpha/2))})\")"
   ]
  },
  {
   "cell_type": "code",
   "execution_count": 87,
   "id": "5b97d4de",
   "metadata": {},
   "outputs": [],
   "source": [
    "true_samp_distr = []\n",
    "for i in range(B):\n",
    "    ys = np.random.normal(mu, 1, n)\n",
    "    true_samp_distr.append(eval_exp_mu(ys))"
   ]
  },
  {
   "cell_type": "code",
   "execution_count": 88,
   "id": "d392ed67",
   "metadata": {},
   "outputs": [
    {
     "data": {
      "image/png": "[encoded data removed]",
      "text/plain": [
       "<Figure size 640x480 with 4 Axes>"
      ]
     },
     "metadata": {},
     "output_type": "display_data"
    }
   ],
   "source": [
    "plt.subplot(1, 4, 1)\n",
    "plt.hist(true_samp_distr, bins = 50)\n",
    "plt.title(\"true sampling distribution\")\n",
    "plt.subplot(1, 4, 2)\n",
    "plt.title(\"nonparametric bootstrap\")\n",
    "plt.hist(TbootA, bins = 50)\n",
    "plt.subplot(1, 4, 3)\n",
    "plt.title(\"parametric bootstrap\")\n",
    "plt.hist(TbootB, bins = 50)\n",
    "plt.subplot(1, 4, 4)\n",
    "plt.title(\"delta\")\n",
    "plt.hist(delt_distr, bins = 50)\n",
    "plt.show()\n"
   ]
  },
  {
   "cell_type": "code",
   "execution_count": null,
   "id": "a9cbc23f",
   "metadata": {},
   "outputs": [],
   "source": []
  }
 ],
 "metadata": {
  "kernelspec": {
   "display_name": "Python 3 (ipykernel)",
   "language": "python",
   "name": "python3"
  },
  "language_info": {
   "codemirror_mode": {
    "name": "ipython",
    "version": 3
   },
   "file_extension": ".py",
   "mimetype": "text/x-python",
   "name": "python",
   "nbconvert_exporter": "python",
   "pygments_lexer": "ipython3",
   "version": "3.10.5"
  }
 },
 "nbformat": 4,
 "nbformat_minor": 5
}
